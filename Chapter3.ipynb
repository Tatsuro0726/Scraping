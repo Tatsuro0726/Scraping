{
 "cells": [
  {
   "cell_type": "code",
   "execution_count": 1,
   "metadata": {},
   "outputs": [],
   "source": [
    "# Chapter3\n",
    "# 3-1 Webのデータはさまざまのフォーマット"
   ]
  },
  {
   "cell_type": "code",
   "execution_count": 2,
   "metadata": {},
   "outputs": [],
   "source": [
    "# バイナリーデータで100を保存\n",
    "filename = './data/a.bin'\n",
    "data = 100\n",
    "\n",
    "# 書き込み\n",
    "with open(filename, 'wb') as f:\n",
    "    f.write(bytearray([data]))"
   ]
  },
  {
   "cell_type": "code",
   "execution_count": 3,
   "metadata": {},
   "outputs": [],
   "source": [
    "# a.bin - 1byte\n",
    "# a.txt - 3byte\n",
    "# CPUも記憶媒体も大容量化したため、バイナリーもテキスト形式の処理も大差ない。⇒ テキストデータで誰もが見たり設定できる方が便利\n",
    "# テキストデータの注意点：文字コード（文字エンコーディング）に影響を受けてしまう\n",
    "# piganji.txt, pigutf8.txt"
   ]
  },
  {
   "cell_type": "code",
   "execution_count": 1,
   "metadata": {},
   "outputs": [],
   "source": [
    "# # Pythonでxml解析\n",
    "# from bs4 import BeautifulSoup\n",
    "# import urllib.request as req\n",
    "# import os.path\n",
    "\n",
    "# # XMLダウンロード\n",
    "# url = 'http://www.city.yokohama.lg.jp/somu/org/kikikanri/data/shelter.xml' # 存在しないサイト\n",
    "# savename = './data/shelter.xml'\n",
    "# if not os.path.exists(savename):\n",
    "#     req.urlretrieve(url, savename)\n",
    "\n",
    "# # BeautifulSoup\n",
    "# xml = open(savename, 'r', encoding='utf-8').read()\n",
    "# soup = BeautifulSoup(xml, 'html.parser')\n",
    "\n",
    "# # データを各区ごとに確認\n",
    "# info = {}\n",
    "# for i in soup.find_all('shelter'):\n",
    "#     name = i.find('name').string\n",
    "#     ward = i.find('ward').string\n",
    "#     addr = i.find('address').string\n",
    "#     note = i.find('notes').string\n",
    "#     if not (ward in info):\n",
    "#         info[ward] = []\n",
    "#     info[ward].append(name)\n",
    "\n",
    "# # 区ごとに防災拠点を表示\n",
    "# for ward in info.keys():\n",
    "#     print('+', ward)\n",
    "#     for name in info[ward]:\n",
    "#         print('| -', name)\n"
   ]
  },
  {
   "cell_type": "code",
   "execution_count": 2,
   "metadata": {},
   "outputs": [],
   "source": [
    "import urllib.request as req\n",
    "import os.path, random\n",
    "import json\n",
    "\n",
    "url = 'https://api.aoikujira.com/hyakunin/get.php?fmt=json'\n",
    "savename = 'hyakunin.json'\n",
    "if not os.path.exists(url):\n",
    "    req.urlretrieve(url, savename)"
   ]
  },
  {
   "cell_type": "code",
   "execution_count": 3,
   "metadata": {
    "tags": []
   },
   "outputs": [
    {
     "output_type": "stream",
     "name": "stdout",
     "text": "Banana 800\nOrange 1400\n"
    }
   ],
   "source": [
    "import yaml\n",
    "\n",
    "yaml_str=\"\"\"\n",
    "Date: 2017-03-10\n",
    "PriceList:\n",
    "    -\n",
    "        item_id: 1000\n",
    "        name: Banana\n",
    "        color: yellow\n",
    "        price: 800\n",
    "    -\n",
    "        item_id: 1001\n",
    "        name: Orange\n",
    "        color: oramge\n",
    "        price: 1400\n",
    "\"\"\"\n",
    "\n",
    "data = yaml.load(yaml_str)\n",
    "\n",
    "for item in data['PriceList']:\n",
    "    print(item['name'], item['price'])"
   ]
  },
  {
   "cell_type": "code",
   "execution_count": 4,
   "metadata": {
    "tags": []
   },
   "outputs": [
    {
     "output_type": "stream",
     "name": "stdout",
     "text": "- age: '35'\n  gender: man\n  name: Yamada\n- age: '58'\n  gender: woman\n  name: Sato\n- age: '42'\n  gender: man\n  name: Kato\n- age: '22'\n  gender: man\n  name: Nishi\n\n----------------\nYamada\nSato\nKato\nNishi\n"
    }
   ],
   "source": [
    "import yaml\n",
    "\n",
    "customer = [\n",
    "    {'name': 'Yamada', 'age': '35', 'gender':'man'},\n",
    "    {'name': 'Sato', 'age': '58', 'gender':'woman'},\n",
    "    {'name': 'Kato', 'age': '42', 'gender':'man'},\n",
    "    {'name': 'Nishi', 'age': '22', 'gender':'man'},\n",
    "]\n",
    "\n",
    "yaml_str = yaml.dump(customer)\n",
    "print(yaml_str)\n",
    "print('----------------')\n",
    "\n",
    "data = yaml.load(yaml_str)\n",
    "\n",
    "for p in data:\n",
    "    print(p['name'])"
   ]
  },
  {
   "cell_type": "code",
   "execution_count": 5,
   "metadata": {
    "tags": []
   },
   "outputs": [
    {
     "output_type": "stream",
     "name": "stdout",
     "text": "title = #FF0000\nbody = #00FF00\nlink = #0000FF\n"
    }
   ],
   "source": [
    "import yaml\n",
    "\n",
    "yaml_str = \"\"\"\n",
    "# 定義\n",
    "color_ref:\n",
    "    - &color1 \"#FF0000\"\n",
    "    - &color2 \"#00FF00\"\n",
    "    - &color3 \"#0000FF\"\n",
    "# エイリアステスト\n",
    "color:\n",
    "    title: *color1\n",
    "    body: *color2\n",
    "    link: *color3\n",
    "\"\"\"\n",
    "\n",
    "data = yaml.load(yaml_str)\n",
    "\n",
    "print('title =', data['color']['title'])\n",
    "print('body =', data['color']['body'])\n",
    "print('link =', data['color']['link'])"
   ]
  },
  {
   "cell_type": "code",
   "execution_count": 1,
   "metadata": {},
   "outputs": [],
   "source": [
    "import codecs\n",
    "\n",
    "#csvファイルの読み込み\n",
    "filename = './data/shit'\n"
   ]
  },
  {
   "cell_type": "code",
   "execution_count": 2,
   "metadata": {
    "tags": []
   },
   "outputs": [
    {
     "output_type": "stream",
     "name": "stdout",
     "text": "商品名 値段\n石鹸 300\n手袋 150\nマスク 230\n"
    }
   ],
   "source": [
    "import csv, codecs\n",
    "\n",
    "filename = './data/shift-jis.csv'\n",
    "fp = codecs.open(filename, 'r')\n",
    "\n",
    "reader = csv.reader(fp, delimiter=',', quotechar='\"')\n",
    "for cells in reader:\n",
    "    print(cells[1],cells[2])"
   ]
  },
  {
   "cell_type": "code",
   "execution_count": 3,
   "metadata": {},
   "outputs": [],
   "source": [
    "import csv, codecs\n",
    "\n",
    "with codecs.open('test.csv', 'w', 'shift-jis') as fp:\n",
    "    writer = csv.writer(fp, delimiter=',', quotechar='\"')\n",
    "    writer.writerow(['ID','商品名','値段'])\n",
    "    writer.writerow(['1000','SDカード',300])\n",
    "    writer.writerow(['1001','キーボード',2100])\n",
    "    writer.writerow(['1002','マジック(赤、青)', 150])"
   ]
  },
  {
   "cell_type": "code",
   "execution_count": 1,
   "metadata": {
    "tags": []
   },
   "outputs": [
    {
     "output_type": "stream",
     "name": "stdout",
     "text": "1 鳥取県 588667\n2 島根県 717397\n3 高知県 764456\n4 徳島県 785491\n5 福井県 806314\n"
    }
   ],
   "source": [
    "import openpyxl\n",
    "\n",
    "filename = './data/population.xlsx'\n",
    "book = openpyxl.load_workbook(filename)\n",
    "\n",
    "sheet = book.worksheets[0]\n",
    "data = []\n",
    "for row in sheet.rows:\n",
    "    data.append([\n",
    "        row[0].value,\n",
    "        row[2].value\n",
    "    ])\n",
    "del data[0]\n",
    "\n",
    "data = sorted(data, key=lambda x:x[1])\n",
    "\n",
    "for i, a in enumerate(data):\n",
    "    if (i >= 5): break\n",
    "    print(i+1, a[0], int(a[1]))"
   ]
  },
  {
   "cell_type": "code",
   "execution_count": null,
   "metadata": {},
   "outputs": [],
   "source": []
  }
 ],
 "metadata": {
  "language_info": {
   "codemirror_mode": {
    "name": "ipython",
    "version": 3
   },
   "file_extension": ".py",
   "mimetype": "text/x-python",
   "name": "python",
   "nbconvert_exporter": "python",
   "pygments_lexer": "ipython3",
   "version": "3.7.6-final"
  },
  "orig_nbformat": 2,
  "kernelspec": {
   "name": "python_defaultSpec_1594048187658",
   "display_name": "Python 3.7.6 64-bit ('base': conda)"
  }
 },
 "nbformat": 4,
 "nbformat_minor": 2
}