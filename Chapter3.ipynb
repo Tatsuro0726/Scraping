{
 "cells": [
  {
   "cell_type": "code",
   "execution_count": 1,
   "metadata": {},
   "outputs": [],
   "source": [
    "# Chapter3\n",
    "# 3-1 Webのデータはさまざまのフォーマット"
   ]
  },
  {
   "cell_type": "code",
   "execution_count": 2,
   "metadata": {},
   "outputs": [],
   "source": [
    "# バイナリーデータで100を保存\n",
    "filename = './data/a.bin'\n",
    "data = 100\n",
    "\n",
    "# 書き込み\n",
    "with open(filename, 'wb') as f:\n",
    "    f.write(bytearray([data]))"
   ]
  },
  {
   "cell_type": "code",
   "execution_count": 3,
   "metadata": {},
   "outputs": [],
   "source": [
    "# a.bin - 1byte\n",
    "# a.txt - 3byte\n",
    "# CPUも記憶媒体も大容量化したため、バイナリーもテキスト形式の処理も大差ない。⇒ テキストデータで誰もが見たり設定できる方が便利\n",
    "# テキストデータの注意点：文字コード（文字エンコーディング）に影響を受けてしまう\n",
    "# piganji.txt, pigutf8.txt"
   ]
  },
  {
   "cell_type": "code",
   "execution_count": null,
   "metadata": {},
   "outputs": [],
   "source": [
    "# Pythonでxml解析\n",
    "from bs4 import BeautifulSoup\n",
    "import urllib.request as req\n",
    "import os.path\n",
    "\n",
    "# XMLダウンロード\n",
    "url = 'http://www.city.yokohama.lg.jp/somu/org/kikikanri/data/shelter.xml'\n",
    "savename = './data/shelter.xml'\n",
    "if not os.path.exists(savename):\n"
   ]
  }
 ],
 "metadata": {
  "language_info": {
   "codemirror_mode": {
    "name": "ipython",
    "version": 3
   },
   "file_extension": ".py",
   "mimetype": "text/x-python",
   "name": "python",
   "nbconvert_exporter": "python",
   "pygments_lexer": "ipython3",
   "version": "3.7.5-final"
  },
  "orig_nbformat": 2,
  "kernelspec": {
   "name": "python37564bitb7a52e800da14549ab672b0871969313",
   "display_name": "Python 3.7.5 64-bit"
  }
 },
 "nbformat": 4,
 "nbformat_minor": 2
}