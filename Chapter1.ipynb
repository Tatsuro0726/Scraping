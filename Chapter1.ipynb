{
 "cells": [
  {
   "cell_type": "code",
   "execution_count": 2,
   "metadata": {},
   "outputs": [
    {
     "output_type": "stream",
     "name": "stdout",
     "text": "finished download\n"
    }
   ],
   "source": [
    "# 1-1 データのダウンロード\n",
    "# urlli\n",
    "\n",
    "# ライブラリの取り込み\n",
    "import urllib.request\n",
    "\n",
    "# URLと保存パスを指定\n",
    "url = 'https://uta.pw/shodou/img/28/214.png'\n",
    "savename = '../data/test.png'\n",
    "\n",
    "# Download\n",
    "urllib.request.urlretrieve(url, savename)\n",
    "print('finished download')"
   ]
  },
  {
   "cell_type": "code",
   "execution_count": 3,
   "metadata": {},
   "outputs": [
    {
     "output_type": "stream",
     "name": "stdout",
     "text": "finished download\n"
    }
   ],
   "source": [
    "# urlopen()を使用する方法\n",
    "# Import library\n",
    "import urllib.request\n",
    "\n",
    "# setting\n",
    "url = 'https://uta.pw/shodou/img/28/214.png'\n",
    "savename = '../data/test2_urlopen.png'\n",
    "\n",
    "# download\n",
    "mem = urllib.request.urlopen(url).read() # メモリー上にデータが展開(binary)\n",
    "\n",
    "# save a file\n",
    "with open(savename, mode='wb') as f: # binaryのためb\n",
    "    f.write(mem)\n",
    "    print('finished download')"
   ]
  },
  {
   "cell_type": "code",
   "execution_count": 5,
   "metadata": {},
   "outputs": [
    {
     "output_type": "stream",
     "name": "stdout",
     "text": "[ip]\nAPI_URI=http://api.aoikujira.com/ip/get.php\nREMOTE_ADDR=126.243.78.33\nREMOTE_HOST=softbank126243078033.bbtec.net\nREMOTE_PORT=48690\nHTTP_HOST=api.aoikujira.com\nHTTP_USER_AGENT=Python-urllib/3.7\nHTTP_ACCEPT_LANGUAGE=\nHTTP_ACCEPT_CHARSET=\nSERVER_PORT=443\nFORMAT=ini\n\n\n"
    }
   ],
   "source": [
    "# Webからデータを取得\n",
    "# クジラWeb API : https://api.aoikujira.com/\n",
    "# クライアントの接続情報を表示\n",
    "# IP確認ＡＰＩへアクセスして結果を表示\n",
    "# Import module\n",
    "import urllib.request\n",
    "\n",
    "# setting\n",
    "url = 'https://api.aoikujira.com/ip/ini'\n",
    "\n",
    "# Get data\n",
    "res = urllib.request.urlopen(url)\n",
    "data = res.read()\n",
    "\n",
    "# translate binary data\n",
    "text = data.decode('utf-8')\n",
    "print(text)"
   ]
  },
  {
   "cell_type": "code",
   "execution_count": 10,
   "metadata": {},
   "outputs": [
    {
     "output_type": "stream",
     "name": "stdout",
     "text": "url = https://api.aoikujira.com/zip/xml/get.php?fmt=xml&zn=1500042\n<?xml version=\"1.0\" encoding=\"utf-8\" ?>\n<address result=\"1\">\n<header>\n  <result>1</result>\n  <api>api.aoikujira.com/zip</api>\n  <version>1.1</version>\n</header>\n<value>\n  <zip>1500042</zip>\n  <ken>東京都</ken>\n  <shi>渋谷区</shi>\n  <cho>宇田川町</cho>\n  <disp>東京都渋谷区宇田川町</disp>\n  <kenkana>トウキョウト</kenkana>\n  <shikana>シブヤク</shikana>\n  <chokana>ウダガワチョウ</chokana>\n</value>\n</address>\n"
    }
   ],
   "source": [
    "# 任意のパラメータを付けてリクエストを送信する方法\n",
    "# 住所検索APIのエントリーポイント\n",
    "# パラメータ: fmt - formatの指定(json, xml), zn - 郵便番号を指定\n",
    "# Import module\n",
    "import urllib.request\n",
    "import urllib.parse\n",
    "\n",
    "API ='https://api.aoikujira.com/zip/xml/get.php'\n",
    "\n",
    "# パラメータをURLエンコードする\n",
    "values = {\n",
    "    'fmt': 'xml',\n",
    "    'zn': '1500042'\n",
    "}\n",
    "params = urllib.parse.urlencode(values)\n",
    "\n",
    "# リクエスト用のURL生成\n",
    "url = API + \"?\" + params\n",
    "print('url =', url)\n",
    "\n",
    "# download\n",
    "data = urllib.request.urlopen(url).read()\n",
    "text = data.decode('utf-8')\n",
    "print(text)"
   ]
  },
  {
   "cell_type": "markdown",
   "metadata": {},
   "source": [
    "### memo\n",
    "- URLパラメータの与え方：末尾に'?'を書いて、key=valueの形式で記述。複数与える場合は'&'で繋げる"
   ]
  },
  {
   "cell_type": "code",
   "execution_count": 12,
   "metadata": {},
   "outputs": [
    {
     "output_type": "stream",
     "name": "stdout",
     "text": "url = https://api.aoikujira.com/hyakunin/get.php?fmt=ini&key=%E3%81%A1%E3%81%8E%E3%82%8A%E3%81%8D%E3%81%AA\n[item42]\nkami=ちぎりきな かたみに袖を しぼりつつ\nsimo=末の松山 波こさじとは\nkami_kana=ちきりきなかたみにそてをしほりつつ\nsimo_kana=すゑのまつやまなみこさしとは\nsakusya=清原元輔\n\n\n"
    }
   ],
   "source": [
    "# 百人一首を検索するコマンドを自作してみる\n",
    "# エントリポイント: https://api.aoikujira.com/hyakunin/get.php\n",
    "# parameters\n",
    "# fmt : ini | xml | json\n",
    "# key : search keywords\n",
    "\n",
    "# Import module\n",
    "import sys\n",
    "import urllib.request as req\n",
    "import urllib.parse as parse\n",
    "\n",
    "# # コマンドライン引数を得る -- カット\n",
    "# if len(sys.argv) <= 1:\n",
    "#     print('USAGE: hyakunin.py (keyword)')\n",
    "#     sys.exit()\n",
    "# keyword = sys.argv[1]\n",
    "# keyword = '秋の田'\n",
    "keyword = 'ちぎりきな'\n",
    "\n",
    "# パラメータをエンコード\n",
    "API = 'https://api.aoikujira.com/hyakunin/get.php'\n",
    "query = {\n",
    "    'fmt':'ini',\n",
    "    'key':keyword\n",
    "}\n",
    "params = parse.urlencode(query)\n",
    "url = API + '?' + params\n",
    "print('url =', url)\n",
    "\n",
    "# download\n",
    "with req.urlopen(url) as r:\n",
    "    binarydata = r.read()\n",
    "    text = binarydata.decode('utf-8')\n",
    "    print(text)\n"
   ]
  },
  {
   "cell_type": "code",
   "execution_count": 1,
   "metadata": {
    "tags": []
   },
   "outputs": [
    {
     "output_type": "stream",
     "name": "stdout",
     "text": "スクレイピングとは?\nWebページを解析すること\n任意の箇所を抽出すること\n"
    }
   ],
   "source": [
    "# 1-2 BeautifulSoup\n",
    "# 基本的な使い方\n",
    "# Import module\n",
    "from bs4 import BeautifulSoup\n",
    "\n",
    "# 解析したXML\n",
    "html = \"\"\"\n",
    "<html><body>\n",
    "    <h1>スクレイピングとは?</h1>\n",
    "    <p>Webページを解析すること</p>\n",
    "    <p>任意の箇所を抽出すること</p>\n",
    "</body></html>\n",
    "\"\"\"\n",
    "\n",
    "# HTMLを解析する\n",
    "soup = BeautifulSoup(html, 'html.parser')\n",
    "\n",
    "# 任意の部分を抽出する\n",
    "h1 = soup.html.body.h1\n",
    "p1 = soup.html.body.p\n",
    "p2 = p1.next_sibling.next_sibling\n",
    "\n",
    "# 要素をテキスト表示\n",
    "print(h1.string)\n",
    "print(p1.string)\n",
    "print(p2.string)"
   ]
  },
  {
   "cell_type": "code",
   "execution_count": 2,
   "metadata": {
    "tags": []
   },
   "outputs": [
    {
     "output_type": "stream",
     "name": "stdout",
     "text": "title =スクレイピングとは\nbody =Webページから任意のデータを抽出すること\n"
    }
   ],
   "source": [
    "# 任意のidで要素を探す方法\n",
    "from bs4 import BeautifulSoup\n",
    "html = \"\"\"\n",
    "<html><body>\n",
    "    <h1 id=\"title\">スクレイピングとは</h1>\n",
    "    <p id=\"body\">Webページから任意のデータを抽出すること</p>\n",
    "</body></html>\n",
    "\"\"\"\n",
    "\n",
    "# HTMLを解析する\n",
    "soup = BeautifulSoup(html, 'html.parser')\n",
    "\n",
    "# find()メソッドで取り出す\n",
    "title = soup.find(id=\"title\")\n",
    "body = soup.find(id=\"body\")\n",
    "\n",
    "# テキスト部分表示\n",
    "print('title =' + title.string)\n",
    "print('body =' + body.string)"
   ]
  },
  {
   "cell_type": "code",
   "execution_count": 3,
   "metadata": {
    "tags": []
   },
   "outputs": [
    {
     "output_type": "stream",
     "name": "stdout",
     "text": "uta > https://uta.pw\noto > https://oto.chu.jp\n"
    }
   ],
   "source": [
    "# 複数の要素を取得する-find_all()\n",
    "from bs4 import BeautifulSoup\n",
    "\n",
    "html =\"\"\"\n",
    "<html><body>\n",
    "    <ul>\n",
    "        <li><a href=\"https://uta.pw\">uta</a></li>\n",
    "        <li><a href=\"https://oto.chu.jp\">oto</a></li>\n",
    "    </ul>\n",
    "</body></html>\n",
    "\"\"\"\n",
    "\n",
    "# HTMLを解析する\n",
    "soup = BeautifulSoup(html, 'html.parser')\n",
    "\n",
    "# find_all()\n",
    "links = soup.find_all(\"a\")\n",
    "\n",
    "# リンク一覧を表示\n",
    "for a in links:\n",
    "    href = a.attrs['href']\n",
    "    text = a.string\n",
    "    print(text, '>', href)"
   ]
  },
  {
   "cell_type": "code",
   "execution_count": 4,
   "metadata": {
    "tags": []
   },
   "outputs": [
    {
     "output_type": "stream",
     "name": "stdout",
     "text": "東京都 渋谷区 宇田川町\n"
    }
   ],
   "source": [
    "# urlopen()とBeautifulSoupの組み合わせ\n",
    "from bs4 import BeautifulSoup\n",
    "import urllib.request as req\n",
    "\n",
    "url = 'https://api.aoikujira.com/zip/xml/1500042'\n",
    "\n",
    "# urlopen()でデータ取得\n",
    "res = req.urlopen(url)\n",
    "\n",
    "# Beautifulsoupで解析\n",
    "soup = BeautifulSoup(res,'html.parser')\n",
    "\n",
    "# 任意のデータ抽出\n",
    "ken = soup.find(\"ken\").string\n",
    "shi = soup.find(\"shi\").string\n",
    "cho = soup.find(\"cho\").string\n",
    "print(ken, shi, cho)"
   ]
  },
  {
   "cell_type": "code",
   "execution_count": 14,
   "metadata": {
    "tags": []
   },
   "outputs": [
    {
     "output_type": "stream",
     "name": "stdout",
     "text": "h1 = トルストイの名言\nli = 汝の心に教えよ、心に学ぶな。\nli = 謙虚な人は誰からも好かれる。\nli = 強い人々は、いつも気取らない。\n"
    }
   ],
   "source": [
    "# CSSセレクターを使う\n",
    "from bs4 import BeautifulSoup\n",
    "\n",
    "# html\n",
    "html =\"\"\"\n",
    "<html><body>\n",
    "<div id=\"meigen\">\n",
    "    <h1>トルストイの名言</h1>\n",
    "    <ul class=\"items\">\n",
    "        <li>汝の心に教えよ、心に学ぶな。</li>\n",
    "        <li>謙虚な人は誰からも好かれる。</li>\n",
    "        <li>強い人々は、いつも気取らない。</li>\n",
    "    </ul>\n",
    "</div>\n",
    "</body></html>\n",
    "\"\"\"\n",
    "\n",
    "\n",
    "# html解析\n",
    "soup = BeautifulSoup(html, 'html.parser')\n",
    "\n",
    "# 必要な部分をCSSクエリで取り出す\n",
    "h1 = soup.select_one(\"div#meigen > h1\").string\n",
    "print('h1 =',h1)\n",
    "\n",
    "# リスト部分を取得\n",
    "li_list = soup.select('div#meigen > ul.items > li')\n",
    "for li in li_list:\n",
    "    print('li =', li.string)"
   ]
  },
  {
   "cell_type": "code",
   "execution_count": 18,
   "metadata": {
    "tags": []
   },
   "outputs": [
    {
     "output_type": "stream",
     "name": "stdout",
     "text": "usdjpy = 107.240000\n"
    }
   ],
   "source": [
    "# Yahooファイナンス\n",
    "from bs4 import BeautifulSoup as soup\n",
    "import urllib.request as req\n",
    "\n",
    "# html取得\n",
    "url = \"https://stocks.finance.yahoo.co.jp/stocks/detail/?code=usdjpy\"\n",
    "res = req.urlopen(url)\n",
    "\n",
    "# HTML解析\n",
    "s = soup(res, 'html.parser')\n",
    "\n",
    "# 任意のデータ抽出\n",
    "price = s.select_one(\".stoksPrice\").string\n",
    "print('usdjpy =', price)"
   ]
  },
  {
   "cell_type": "code",
   "execution_count": 24,
   "metadata": {},
   "outputs": [
    {
     "output_type": "error",
     "ename": "HTTPError",
     "evalue": "HTTP Error 404: Not Found",
     "traceback": [
      "\u001b[1;31m---------------------------------------------------------------------------\u001b[0m",
      "\u001b[1;31mHTTPError\u001b[0m                                 Traceback (most recent call last)",
      "\u001b[1;32m<ipython-input-24-64618af17684>\u001b[0m in \u001b[0;36m<module>\u001b[1;34m\u001b[0m\n\u001b[0;32m      4\u001b[0m \u001b[1;31m# 為替レートxml取得 kujira\u001b[0m\u001b[1;33m\u001b[0m\u001b[1;33m\u001b[0m\u001b[1;33m\u001b[0m\u001b[0m\n\u001b[0;32m      5\u001b[0m \u001b[0murl\u001b[0m \u001b[1;33m=\u001b[0m\u001b[1;34m'https://api.aoikujira.com/kawase/xml/usd'\u001b[0m\u001b[1;33m\u001b[0m\u001b[1;33m\u001b[0m\u001b[0m\n\u001b[1;32m----> 6\u001b[1;33m \u001b[0mres\u001b[0m \u001b[1;33m=\u001b[0m \u001b[0mreq\u001b[0m\u001b[1;33m.\u001b[0m\u001b[0murlopen\u001b[0m\u001b[1;33m(\u001b[0m\u001b[0murl\u001b[0m\u001b[1;33m)\u001b[0m\u001b[1;33m\u001b[0m\u001b[1;33m\u001b[0m\u001b[0m\n\u001b[0m\u001b[0;32m      7\u001b[0m \u001b[1;33m\u001b[0m\u001b[0m\n\u001b[0;32m      8\u001b[0m \u001b[1;31m# html解析\u001b[0m\u001b[1;33m\u001b[0m\u001b[1;33m\u001b[0m\u001b[1;33m\u001b[0m\u001b[0m\n",
      "\u001b[1;32m~\\Anaconda3\\lib\\urllib\\request.py\u001b[0m in \u001b[0;36murlopen\u001b[1;34m(url, data, timeout, cafile, capath, cadefault, context)\u001b[0m\n\u001b[0;32m    220\u001b[0m     \u001b[1;32melse\u001b[0m\u001b[1;33m:\u001b[0m\u001b[1;33m\u001b[0m\u001b[1;33m\u001b[0m\u001b[0m\n\u001b[0;32m    221\u001b[0m         \u001b[0mopener\u001b[0m \u001b[1;33m=\u001b[0m \u001b[0m_opener\u001b[0m\u001b[1;33m\u001b[0m\u001b[1;33m\u001b[0m\u001b[0m\n\u001b[1;32m--> 222\u001b[1;33m     \u001b[1;32mreturn\u001b[0m \u001b[0mopener\u001b[0m\u001b[1;33m.\u001b[0m\u001b[0mopen\u001b[0m\u001b[1;33m(\u001b[0m\u001b[0murl\u001b[0m\u001b[1;33m,\u001b[0m \u001b[0mdata\u001b[0m\u001b[1;33m,\u001b[0m \u001b[0mtimeout\u001b[0m\u001b[1;33m)\u001b[0m\u001b[1;33m\u001b[0m\u001b[1;33m\u001b[0m\u001b[0m\n\u001b[0m\u001b[0;32m    223\u001b[0m \u001b[1;33m\u001b[0m\u001b[0m\n\u001b[0;32m    224\u001b[0m \u001b[1;32mdef\u001b[0m \u001b[0minstall_opener\u001b[0m\u001b[1;33m(\u001b[0m\u001b[0mopener\u001b[0m\u001b[1;33m)\u001b[0m\u001b[1;33m:\u001b[0m\u001b[1;33m\u001b[0m\u001b[1;33m\u001b[0m\u001b[0m\n",
      "\u001b[1;32m~\\Anaconda3\\lib\\urllib\\request.py\u001b[0m in \u001b[0;36mopen\u001b[1;34m(self, fullurl, data, timeout)\u001b[0m\n\u001b[0;32m    529\u001b[0m         \u001b[1;32mfor\u001b[0m \u001b[0mprocessor\u001b[0m \u001b[1;32min\u001b[0m \u001b[0mself\u001b[0m\u001b[1;33m.\u001b[0m\u001b[0mprocess_response\u001b[0m\u001b[1;33m.\u001b[0m\u001b[0mget\u001b[0m\u001b[1;33m(\u001b[0m\u001b[0mprotocol\u001b[0m\u001b[1;33m,\u001b[0m \u001b[1;33m[\u001b[0m\u001b[1;33m]\u001b[0m\u001b[1;33m)\u001b[0m\u001b[1;33m:\u001b[0m\u001b[1;33m\u001b[0m\u001b[1;33m\u001b[0m\u001b[0m\n\u001b[0;32m    530\u001b[0m             \u001b[0mmeth\u001b[0m \u001b[1;33m=\u001b[0m \u001b[0mgetattr\u001b[0m\u001b[1;33m(\u001b[0m\u001b[0mprocessor\u001b[0m\u001b[1;33m,\u001b[0m \u001b[0mmeth_name\u001b[0m\u001b[1;33m)\u001b[0m\u001b[1;33m\u001b[0m\u001b[1;33m\u001b[0m\u001b[0m\n\u001b[1;32m--> 531\u001b[1;33m             \u001b[0mresponse\u001b[0m \u001b[1;33m=\u001b[0m \u001b[0mmeth\u001b[0m\u001b[1;33m(\u001b[0m\u001b[0mreq\u001b[0m\u001b[1;33m,\u001b[0m \u001b[0mresponse\u001b[0m\u001b[1;33m)\u001b[0m\u001b[1;33m\u001b[0m\u001b[1;33m\u001b[0m\u001b[0m\n\u001b[0m\u001b[0;32m    532\u001b[0m \u001b[1;33m\u001b[0m\u001b[0m\n\u001b[0;32m    533\u001b[0m         \u001b[1;32mreturn\u001b[0m \u001b[0mresponse\u001b[0m\u001b[1;33m\u001b[0m\u001b[1;33m\u001b[0m\u001b[0m\n",
      "\u001b[1;32m~\\Anaconda3\\lib\\urllib\\request.py\u001b[0m in \u001b[0;36mhttp_response\u001b[1;34m(self, request, response)\u001b[0m\n\u001b[0;32m    639\u001b[0m         \u001b[1;32mif\u001b[0m \u001b[1;32mnot\u001b[0m \u001b[1;33m(\u001b[0m\u001b[1;36m200\u001b[0m \u001b[1;33m<=\u001b[0m \u001b[0mcode\u001b[0m \u001b[1;33m<\u001b[0m \u001b[1;36m300\u001b[0m\u001b[1;33m)\u001b[0m\u001b[1;33m:\u001b[0m\u001b[1;33m\u001b[0m\u001b[1;33m\u001b[0m\u001b[0m\n\u001b[0;32m    640\u001b[0m             response = self.parent.error(\n\u001b[1;32m--> 641\u001b[1;33m                 'http', request, response, code, msg, hdrs)\n\u001b[0m\u001b[0;32m    642\u001b[0m \u001b[1;33m\u001b[0m\u001b[0m\n\u001b[0;32m    643\u001b[0m         \u001b[1;32mreturn\u001b[0m \u001b[0mresponse\u001b[0m\u001b[1;33m\u001b[0m\u001b[1;33m\u001b[0m\u001b[0m\n",
      "\u001b[1;32m~\\Anaconda3\\lib\\urllib\\request.py\u001b[0m in \u001b[0;36merror\u001b[1;34m(self, proto, *args)\u001b[0m\n\u001b[0;32m    567\u001b[0m         \u001b[1;32mif\u001b[0m \u001b[0mhttp_err\u001b[0m\u001b[1;33m:\u001b[0m\u001b[1;33m\u001b[0m\u001b[1;33m\u001b[0m\u001b[0m\n\u001b[0;32m    568\u001b[0m             \u001b[0margs\u001b[0m \u001b[1;33m=\u001b[0m \u001b[1;33m(\u001b[0m\u001b[0mdict\u001b[0m\u001b[1;33m,\u001b[0m \u001b[1;34m'default'\u001b[0m\u001b[1;33m,\u001b[0m \u001b[1;34m'http_error_default'\u001b[0m\u001b[1;33m)\u001b[0m \u001b[1;33m+\u001b[0m \u001b[0morig_args\u001b[0m\u001b[1;33m\u001b[0m\u001b[1;33m\u001b[0m\u001b[0m\n\u001b[1;32m--> 569\u001b[1;33m             \u001b[1;32mreturn\u001b[0m \u001b[0mself\u001b[0m\u001b[1;33m.\u001b[0m\u001b[0m_call_chain\u001b[0m\u001b[1;33m(\u001b[0m\u001b[1;33m*\u001b[0m\u001b[0margs\u001b[0m\u001b[1;33m)\u001b[0m\u001b[1;33m\u001b[0m\u001b[1;33m\u001b[0m\u001b[0m\n\u001b[0m\u001b[0;32m    570\u001b[0m \u001b[1;33m\u001b[0m\u001b[0m\n\u001b[0;32m    571\u001b[0m \u001b[1;31m# XXX probably also want an abstract factory that knows when it makes\u001b[0m\u001b[1;33m\u001b[0m\u001b[1;33m\u001b[0m\u001b[1;33m\u001b[0m\u001b[0m\n",
      "\u001b[1;32m~\\Anaconda3\\lib\\urllib\\request.py\u001b[0m in \u001b[0;36m_call_chain\u001b[1;34m(self, chain, kind, meth_name, *args)\u001b[0m\n\u001b[0;32m    501\u001b[0m         \u001b[1;32mfor\u001b[0m \u001b[0mhandler\u001b[0m \u001b[1;32min\u001b[0m \u001b[0mhandlers\u001b[0m\u001b[1;33m:\u001b[0m\u001b[1;33m\u001b[0m\u001b[1;33m\u001b[0m\u001b[0m\n\u001b[0;32m    502\u001b[0m             \u001b[0mfunc\u001b[0m \u001b[1;33m=\u001b[0m \u001b[0mgetattr\u001b[0m\u001b[1;33m(\u001b[0m\u001b[0mhandler\u001b[0m\u001b[1;33m,\u001b[0m \u001b[0mmeth_name\u001b[0m\u001b[1;33m)\u001b[0m\u001b[1;33m\u001b[0m\u001b[1;33m\u001b[0m\u001b[0m\n\u001b[1;32m--> 503\u001b[1;33m             \u001b[0mresult\u001b[0m \u001b[1;33m=\u001b[0m \u001b[0mfunc\u001b[0m\u001b[1;33m(\u001b[0m\u001b[1;33m*\u001b[0m\u001b[0margs\u001b[0m\u001b[1;33m)\u001b[0m\u001b[1;33m\u001b[0m\u001b[1;33m\u001b[0m\u001b[0m\n\u001b[0m\u001b[0;32m    504\u001b[0m             \u001b[1;32mif\u001b[0m \u001b[0mresult\u001b[0m \u001b[1;32mis\u001b[0m \u001b[1;32mnot\u001b[0m \u001b[1;32mNone\u001b[0m\u001b[1;33m:\u001b[0m\u001b[1;33m\u001b[0m\u001b[1;33m\u001b[0m\u001b[0m\n\u001b[0;32m    505\u001b[0m                 \u001b[1;32mreturn\u001b[0m \u001b[0mresult\u001b[0m\u001b[1;33m\u001b[0m\u001b[1;33m\u001b[0m\u001b[0m\n",
      "\u001b[1;32m~\\Anaconda3\\lib\\urllib\\request.py\u001b[0m in \u001b[0;36mhttp_error_default\u001b[1;34m(self, req, fp, code, msg, hdrs)\u001b[0m\n\u001b[0;32m    647\u001b[0m \u001b[1;32mclass\u001b[0m \u001b[0mHTTPDefaultErrorHandler\u001b[0m\u001b[1;33m(\u001b[0m\u001b[0mBaseHandler\u001b[0m\u001b[1;33m)\u001b[0m\u001b[1;33m:\u001b[0m\u001b[1;33m\u001b[0m\u001b[1;33m\u001b[0m\u001b[0m\n\u001b[0;32m    648\u001b[0m     \u001b[1;32mdef\u001b[0m \u001b[0mhttp_error_default\u001b[0m\u001b[1;33m(\u001b[0m\u001b[0mself\u001b[0m\u001b[1;33m,\u001b[0m \u001b[0mreq\u001b[0m\u001b[1;33m,\u001b[0m \u001b[0mfp\u001b[0m\u001b[1;33m,\u001b[0m \u001b[0mcode\u001b[0m\u001b[1;33m,\u001b[0m \u001b[0mmsg\u001b[0m\u001b[1;33m,\u001b[0m \u001b[0mhdrs\u001b[0m\u001b[1;33m)\u001b[0m\u001b[1;33m:\u001b[0m\u001b[1;33m\u001b[0m\u001b[1;33m\u001b[0m\u001b[0m\n\u001b[1;32m--> 649\u001b[1;33m         \u001b[1;32mraise\u001b[0m \u001b[0mHTTPError\u001b[0m\u001b[1;33m(\u001b[0m\u001b[0mreq\u001b[0m\u001b[1;33m.\u001b[0m\u001b[0mfull_url\u001b[0m\u001b[1;33m,\u001b[0m \u001b[0mcode\u001b[0m\u001b[1;33m,\u001b[0m \u001b[0mmsg\u001b[0m\u001b[1;33m,\u001b[0m \u001b[0mhdrs\u001b[0m\u001b[1;33m,\u001b[0m \u001b[0mfp\u001b[0m\u001b[1;33m)\u001b[0m\u001b[1;33m\u001b[0m\u001b[1;33m\u001b[0m\u001b[0m\n\u001b[0m\u001b[0;32m    650\u001b[0m \u001b[1;33m\u001b[0m\u001b[0m\n\u001b[0;32m    651\u001b[0m \u001b[1;32mclass\u001b[0m \u001b[0mHTTPRedirectHandler\u001b[0m\u001b[1;33m(\u001b[0m\u001b[0mBaseHandler\u001b[0m\u001b[1;33m)\u001b[0m\u001b[1;33m:\u001b[0m\u001b[1;33m\u001b[0m\u001b[1;33m\u001b[0m\u001b[0m\n",
      "\u001b[1;31mHTTPError\u001b[0m: HTTP Error 404: Not Found"
     ]
    }
   ],
   "source": [
    "from bs4 import BeautifulSoup\n",
    "import urllib.request as req\n",
    "\n",
    "# 為替レートxml取得 kujira\n",
    "url ='https://api.aoikujira.com/kawase/xml/usd' # serverが停止\n",
    "res = req.urlopen(url)\n",
    "\n",
    "# html解析\n",
    "sp = BeautifulSoup(res, 'html.parser')\n",
    "\n",
    "jpy = sp.select_one('jpy').string\n",
    "print('jpy =',jpy)"
   ]
  },
  {
   "cell_type": "code",
   "execution_count": 2,
   "metadata": {
    "tags": []
   },
   "outputs": [
    {
     "output_type": "stream",
     "name": "stdout",
     "text": "イズムの功過 > ../cards/000148/card2314.html\n一夜 > ../cards/000148/card1086.html\n永日小品 > ../cards/000148/card758.html\n岡本一平著並画『探訪画趣』序 > ../cards/000148/card2669.html\nおはなし > ../cards/000148/card59017.html\n思い出す事など > ../cards/000148/card792.html\nカーライル博物館 > ../cards/000148/card1046.html\n薤露行 > ../cards/000148/card769.html\n学者と名誉 > ../cards/000148/card2383.html\n硝子戸の中 > ../cards/000148/card760.html\n元日 > ../cards/000148/card2674.html\n鬼哭寺の一夜 > ../cards/000148/card58276.html\n木下杢太郎『唐草表紙』序 > ../cards/000148/card2670.html\n教育と文芸 > ../cards/000148/card778.html\n京に着ける夕 > ../cards/000148/card777.html\n京に着ける夕 > ../cards/000148/card55936.html\n虚子君へ > ../cards/000148/card2373.html\n草枕 > ../cards/000148/card776.html\n虞美人草 > ../cards/000148/card761.html\nケーベル先生 > ../cards/000148/card770.html\nケーベル先生の告別 > ../cards/000148/card771.html\n現代日本の開化 > ../cards/000148/card759.html\n行人 > ../cards/000148/card775.html\n坑夫 > ../cards/000148/card774.html\nこころ > ../cards/000148/card773.html\n『心』広告文 > ../cards/000148/card4689.html\n『心』自序 > ../cards/000148/card4688.html\n『心』予告 > ../cards/000148/card4687.html\n琴のそら音 > ../cards/000148/card1073.html\nコンラッドの描きたる自然について > ../cards/000148/card766.html\n作物の批評 > ../cards/000148/card793.html\n三山居士 > ../cards/000148/card784.html\n三四郎 > ../cards/000148/card794.html\n『三四郎』予告 > ../cards/000148/card4682.html\n子規の画 > ../cards/000148/card1749.html\n子規の画 > ../cards/000148/card795.html\n「自然を写す文章」 > ../cards/000148/card42297.html\n自転車日記 > ../cards/000148/card768.html\n写生文 > ../cards/000148/card796.html\n従軍行 > ../cards/000148/card58277.html\n趣味の遺伝 > ../cards/000148/card1104.html\n初秋の一日 > ../cards/000148/card797.html\n処女作追懐談 > ../cards/000148/card2680.html\n人生 > ../cards/000148/card767.html\n鈴木三重吉宛書簡―明治三十九年 > ../cards/000148/card2575.html\n西洋にはない > ../cards/000148/card42320.html\n戦争からきた行き違い > ../cards/000148/card2315.html\n創作家の態度 > ../cards/000148/card1102.html\nそれから > ../cards/000148/card1746.html\nそれから > ../cards/000148/card56143.html\n『それから』予告 > ../cards/000148/card4681.html\n高浜虚子著『鶏頭』序 > ../cards/000148/card2667.html\n田山花袋君に答う > ../cards/000148/card2370.html\n「土」に就て > ../cards/000148/card56900.html\n『土』に就て > ../cards/000148/card2668.html\n艇長の遺書と中佐の詩 > ../cards/000148/card4686.html\n手紙 > ../cards/000148/card798.html\n『伝説の時代』序 > ../cards/000148/card42156.html\n点頭録 > ../cards/000148/card4672.html\n『東洋美術図譜』 > ../cards/000148/card2313.html\n道楽と職業 > ../cards/000148/card757.html\n長塚節氏の小説「土」 > ../cards/000148/card2682.html\n中味と形式 > ../cards/000148/card788.html\n二百十日 > ../cards/000148/card751.html\n入社の辞 > ../cards/000148/card2673.html\n猫の広告文 > ../cards/000148/card4683.html\n野分 > ../cards/000148/card791.html\n『煤煙』の序 > ../cards/000148/card4684.html\n博士問題とマードック先生と余 > ../cards/000148/card787.html\n博士問題の成行 > ../cards/000148/card2376.html\n長谷川君と余 > ../cards/000148/card762.html\n彼岸過迄 > ../cards/000148/card765.html\n「額の男」を読む > ../cards/000148/card50478.html\n文芸委員は何をするか > ../cards/000148/card754.html\n文芸と道徳 > ../cards/000148/card756.html\n文芸とヒロイツク > ../cards/000148/card4685.html\n文芸の哲学的基礎 > ../cards/000148/card755.html\n文芸は男子一生の事業とするに足らざる乎 > ../cards/000148/card2681.html\n文士の生活 > ../cards/000148/card2679.html\n文壇の趨勢 > ../cards/000148/card2371.html\n文鳥 > ../cards/000148/card753.html\n変な音 > ../cards/000148/card763.html\n変な音 > ../cards/000148/card764.html\n僕の昔 > ../cards/000148/card1750.html\n坊っちゃん > ../cards/000148/card752.html\nマードック先生の『日本歴史』 > ../cards/000148/card2375.html\n正岡子規 > ../cards/000148/card1751.html\n幻影の盾 > ../cards/000148/card780.html\n満韓ところどころ > ../cards/000148/card781.html\n道草 > ../cards/000148/card783.html\n水底の感 > ../cards/000148/card58278.html\n無題 > ../cards/000148/card786.html\n明暗 > ../cards/000148/card782.html\n明治座の所感を虚子君に問れて > ../cards/000148/card2372.html\n模倣と独立 > ../cards/000148/card1747.html\n門 > ../cards/000148/card785.html\n門 > ../cards/000148/card56923.html\n夢十夜 > ../cards/000148/card799.html\n余と万年筆 > ../cards/000148/card2675.html\n予の描かんと欲する作品 > ../cards/000148/card2678.html\n落第 > ../cards/000148/card2676.html\n倫敦消息 > ../cards/000148/card779.html\n倫敦塔 > ../cards/000148/card1076.html\n吾輩は猫である > ../cards/000148/card789.html\n吾輩ハ猫デアル > ../cards/000148/card790.html\n『吾輩は猫である』下篇自序 > ../cards/000148/card2672.html\n『吾輩は猫である』上篇自序 > ../cards/000148/card47148.html\n『吾輩は猫である』中篇自序 > ../cards/000148/card2671.html\n私の経過した学生時代 > ../cards/000148/card2677.html\n私の個人主義 > ../cards/000148/card772.html\n"
    }
   ],
   "source": [
    "# 1-3 CSSセレクターについて\n",
    "from bs4 import BeautifulSoup\n",
    "import urllib.request as req\n",
    "\n",
    "url = \"https://www.aozora.gr.jp/index_pages/person148.html\"\n",
    "res = req.urlopen(url)\n",
    "soup = BeautifulSoup(res, \"html.parser\")\n",
    "\n",
    "li_list = soup.select(\"ol > li\")\n",
    "for li in li_list:\n",
    "    a = li.a\n",
    "    if a != None:\n",
    "        name = a.string\n",
    "        href = a.attrs[\"href\"]\n",
    "        print(name, \">\", href)"
   ]
  },
  {
   "cell_type": "code",
   "execution_count": 8,
   "metadata": {
    "tags": []
   },
   "outputs": [
    {
     "output_type": "stream",
     "name": "stdout",
     "text": "アボカド\nアボカド\nアボカド\nアボカド\nアボカド\n"
    }
   ],
   "source": [
    "# ./data/fruit-vegetables.htmlからアボカドを抽出する\n",
    "from bs4 import BeautifulSoup\n",
    "fp = open('./data/fruit-vegetables.html', encoding='utf-8')\n",
    "soup = BeautifulSoup(fp, \"html.parser\")\n",
    "\n",
    "# CSSセレクターで選び出す\n",
    "# print(soup.select_one(\"li:nth-of-type(8)\").string)\n",
    "print(soup.select_one('#ve-list > li:nth-of-type(4)').string)\n",
    "print(soup.select('#ve-list > li[data-lo=\"us\"]')[1].string)\n",
    "print(soup.select('#ve-list > li.black')[1].string)\n",
    "\n",
    "# findメソッドで呼び出す\n",
    "cond = {\"data-lo\":\"us\", \"class\":\"black\"}\n",
    "print(soup.find(\"li\",cond).string)\n",
    "\n",
    "# findメソッドを２度組み合わせる\n",
    "print(soup.find(id=\"ve-list\").find(\"li\", cond).string)"
   ]
  },
  {
   "cell_type": "code",
   "execution_count": 17,
   "metadata": {
    "tags": []
   },
   "outputs": [
    {
     "output_type": "stream",
     "name": "stdout",
     "text": "https://example.com/foo\n"
    }
   ],
   "source": [
    "# sel-re.py\n",
    "from bs4 import BeautifulSoup\n",
    "import re # 正規表現を使うとき\n",
    "\n",
    "html = \"\"\"\n",
    "<ul>\n",
    "    <li><a href=\"hoge.html>hoge</li>\n",
    "    <li><a href=\"https://example.com/fuga\">fuga*</li>\n",
    "    <li><a href=\"https://example.com/foo\">foo*</li>\n",
    "    <li><a href=\"http://example.com/aaa\">aaa</li>\n",
    "</ul>\n",
    "\"\"\"\n",
    "\n",
    "soup = BeautifulSoup(html, \"html.parser\")\n",
    "# 正規表現でhrefからhttpsのものを抽出\n",
    "li = soup.find_all(href=re.compile(r\"^https://\"))\n",
    "for e in li: print(e.attrs['href'])"
   ]
  },
  {
   "cell_type": "code",
   "execution_count": 18,
   "metadata": {
    "tags": []
   },
   "outputs": [
    {
     "output_type": "stream",
     "name": "stdout",
     "text": "http://example.com/html/b.html\nhttp://example.com/html/sub/c.html\nhttp://example.com/index.html\nhttp://example.com/css/hoge.css\n"
    }
   ],
   "source": [
    "# 1-4 リンク先を丸ごとダウンロード\n",
    "# 相対パスを展開する方法\n",
    "from urllib.parse import urljoin\n",
    "\n",
    "base=\"http://example.com/html/a.html\"\n",
    "\n",
    "print(urljoin(base, \"b.html\"))\n",
    "print(urljoin(base, \"sub/c.html\"))\n",
    "print(urljoin(base, \"../index.html\"))\n",
    "print(urljoin(base, \"../css/hoge.css\"))"
   ]
  },
  {
   "cell_type": "code",
   "execution_count": 19,
   "metadata": {
    "tags": []
   },
   "outputs": [
    {
     "output_type": "stream",
     "name": "stdout",
     "text": "http://example.com/hoge.html\nhttp://kujirahand.com/wiki\nhttp://uta.pw/shodou\n"
    }
   ],
   "source": [
    "# http://で始まっている場合には、基本URLを無視して第2引数に指定したURLを返す。\n",
    "from urllib.parse import urljoin\n",
    "\n",
    "base = 'http://example.com/html/a.html'\n",
    "\n",
    "print(urljoin(base, \"/hoge.html\"))\n",
    "print(urljoin(base, \"http://kujirahand.com/wiki\"))\n",
    "print(urljoin(base, \"//uta.pw/shodou\"))"
   ]
  },
  {
   "cell_type": "code",
   "execution_count": 24,
   "metadata": {
    "tags": [
     "outputPrepend"
    ]
   },
   "outputs": [
    {
     "output_type": "stream",
     "name": "stdout",
     "text": "ownload= https://docs.python.jp/3.6/library/math.html\nanalize_html= https://docs.python.jp/3.6/library/math.html\ndownload= https://docs.python.jp/3.6/library/cmath.html\nanalize_html= https://docs.python.jp/3.6/library/cmath.html\ndownload= https://docs.python.jp/3.6/library/decimal.html\nanalize_html= https://docs.python.jp/3.6/library/decimal.html\ndownload= https://docs.python.jp/3.6/library/fractions.html\nanalize_html= https://docs.python.jp/3.6/library/fractions.html\ndownload= https://docs.python.jp/3.6/library/random.html\nanalize_html= https://docs.python.jp/3.6/library/random.html\ndownload= https://docs.python.jp/3.6/library/statistics.html\nanalize_html= https://docs.python.jp/3.6/library/statistics.html\ndownload= https://docs.python.jp/3.6/library/functional.html\nanalize_html= https://docs.python.jp/3.6/library/functional.html\ndownload= https://docs.python.jp/3.6/library/itertools.html\nanalize_html= https://docs.python.jp/3.6/library/itertools.html\ndownload= https://docs.python.jp/3.6/library/functools.html\nanalize_html= https://docs.python.jp/3.6/library/functools.html\ndownload= https://docs.python.jp/3.6/library/operator.html\nanalize_html= https://docs.python.jp/3.6/library/operator.html\ndownload= https://docs.python.jp/3.6/library/filesys.html\nanalize_html= https://docs.python.jp/3.6/library/filesys.html\ndownload= https://docs.python.jp/3.6/library/pathlib.html\nanalize_html= https://docs.python.jp/3.6/library/pathlib.html\ndownload= https://docs.python.jp/3.6/library/os.path.html\nanalize_html= https://docs.python.jp/3.6/library/os.path.html\ndownload= https://docs.python.jp/3.6/library/fileinput.html\nanalize_html= https://docs.python.jp/3.6/library/fileinput.html\ndownload= https://docs.python.jp/3.6/library/stat.html\nanalize_html= https://docs.python.jp/3.6/library/stat.html\ndownload= https://docs.python.jp/3.6/library/filecmp.html\nanalize_html= https://docs.python.jp/3.6/library/filecmp.html\ndownload= https://docs.python.jp/3.6/library/tempfile.html\nanalize_html= https://docs.python.jp/3.6/library/tempfile.html\ndownload= https://docs.python.jp/3.6/library/glob.html\nanalize_html= https://docs.python.jp/3.6/library/glob.html\ndownload= https://docs.python.jp/3.6/library/fnmatch.html\nanalize_html= https://docs.python.jp/3.6/library/fnmatch.html\ndownload= https://docs.python.jp/3.6/library/linecache.html\nanalize_html= https://docs.python.jp/3.6/library/linecache.html\ndownload= https://docs.python.jp/3.6/library/shutil.html\nanalize_html= https://docs.python.jp/3.6/library/shutil.html\ndownload= https://docs.python.jp/3.6/library/macpath.html\nanalize_html= https://docs.python.jp/3.6/library/macpath.html\ndownload= https://docs.python.jp/3.6/library/persistence.html\nanalize_html= https://docs.python.jp/3.6/library/persistence.html\ndownload= https://docs.python.jp/3.6/library/pickle.html\nanalize_html= https://docs.python.jp/3.6/library/pickle.html\ndownload= https://docs.python.jp/3.6/library/copyreg.html\nanalize_html= https://docs.python.jp/3.6/library/copyreg.html\ndownload= https://docs.python.jp/3.6/library/shelve.html\nanalize_html= https://docs.python.jp/3.6/library/shelve.html\ndownload= https://docs.python.jp/3.6/library/marshal.html\nanalize_html= https://docs.python.jp/3.6/library/marshal.html\ndownload= https://docs.python.jp/3.6/library/dbm.html\nanalize_html= https://docs.python.jp/3.6/library/dbm.html\ndownload= https://docs.python.jp/3.6/library/sqlite3.html\nanalize_html= https://docs.python.jp/3.6/library/sqlite3.html\ndownload= https://docs.python.jp/3.6/library/archiving.html\nanalize_html= https://docs.python.jp/3.6/library/archiving.html\ndownload= https://docs.python.jp/3.6/library/zlib.html\nanalize_html= https://docs.python.jp/3.6/library/zlib.html\ndownload= https://docs.python.jp/3.6/library/gzip.html\nanalize_html= https://docs.python.jp/3.6/library/gzip.html\ndownload= https://docs.python.jp/3.6/library/bz2.html\nanalize_html= https://docs.python.jp/3.6/library/bz2.html\ndownload= https://docs.python.jp/3.6/library/lzma.html\nanalize_html= https://docs.python.jp/3.6/library/lzma.html\ndownload= https://docs.python.jp/3.6/library/zipfile.html\nanalize_html= https://docs.python.jp/3.6/library/zipfile.html\ndownload= https://docs.python.jp/3.6/library/tarfile.html\nanalize_html= https://docs.python.jp/3.6/library/tarfile.html\ndownload= https://docs.python.jp/3.6/library/fileformats.html\nanalize_html= https://docs.python.jp/3.6/library/fileformats.html\ndownload= https://docs.python.jp/3.6/library/csv.html\nanalize_html= https://docs.python.jp/3.6/library/csv.html\ndownload= https://docs.python.jp/3.6/library/configparser.html\nanalize_html= https://docs.python.jp/3.6/library/configparser.html\ndownload= https://docs.python.jp/3.6/library/netrc.html\nanalize_html= https://docs.python.jp/3.6/library/netrc.html\ndownload= https://docs.python.jp/3.6/library/xdrlib.html\nanalize_html= https://docs.python.jp/3.6/library/xdrlib.html\ndownload= https://docs.python.jp/3.6/library/plistlib.html\nanalize_html= https://docs.python.jp/3.6/library/plistlib.html\ndownload= https://docs.python.jp/3.6/library/crypto.html\nanalize_html= https://docs.python.jp/3.6/library/crypto.html\ndownload= https://docs.python.jp/3.6/library/hashlib.html\nanalize_html= https://docs.python.jp/3.6/library/hashlib.html\ndownload= https://docs.python.jp/3.6/library/hmac.html\nanalize_html= https://docs.python.jp/3.6/library/hmac.html\ndownload= https://docs.python.jp/3.6/library/secrets.html\nanalize_html= https://docs.python.jp/3.6/library/secrets.html\ndownload= https://docs.python.jp/3.6/library/allos.html\nanalize_html= https://docs.python.jp/3.6/library/allos.html\ndownload= https://docs.python.jp/3.6/library/os.html\nanalize_html= https://docs.python.jp/3.6/library/os.html\ndownload= https://docs.python.jp/3.6/library/io.html\nanalize_html= https://docs.python.jp/3.6/library/io.html\ndownload= https://docs.python.jp/3.6/library/time.html\nanalize_html= https://docs.python.jp/3.6/library/time.html\ndownload= https://docs.python.jp/3.6/library/argparse.html\nanalize_html= https://docs.python.jp/3.6/library/argparse.html\ndownload= https://docs.python.jp/3.6/library/getopt.html\nanalize_html= https://docs.python.jp/3.6/library/getopt.html\ndownload= https://docs.python.jp/3.6/library/logging.html\nanalize_html= https://docs.python.jp/3.6/library/logging.html\ndownload= https://docs.python.jp/3.6/library/logging.config.html\nanalize_html= https://docs.python.jp/3.6/library/logging.config.html\ndownload= https://docs.python.jp/3.6/library/logging.handlers.html\nanalize_html= https://docs.python.jp/3.6/library/logging.handlers.html\ndownload= https://docs.python.jp/3.6/library/getpass.html\nanalize_html= https://docs.python.jp/3.6/library/getpass.html\ndownload= https://docs.python.jp/3.6/library/curses.html\nanalize_html= https://docs.python.jp/3.6/library/curses.html\ndownload= https://docs.python.jp/3.6/library/curses.ascii.html\nanalize_html= https://docs.python.jp/3.6/library/curses.ascii.html\ndownload= https://docs.python.jp/3.6/library/curses.panel.html\nanalize_html= https://docs.python.jp/3.6/library/curses.panel.html\ndownload= https://docs.python.jp/3.6/library/platform.html\nanalize_html= https://docs.python.jp/3.6/library/platform.html\ndownload= https://docs.python.jp/3.6/library/errno.html\nanalize_html= https://docs.python.jp/3.6/library/errno.html\ndownload= https://docs.python.jp/3.6/library/ctypes.html\nanalize_html= https://docs.python.jp/3.6/library/ctypes.html\ndownload= https://docs.python.jp/3.6/library/concurrency.html\nanalize_html= https://docs.python.jp/3.6/library/concurrency.html\ndownload= https://docs.python.jp/3.6/library/threading.html\nanalize_html= https://docs.python.jp/3.6/library/threading.html\ndownload= https://docs.python.jp/3.6/library/multiprocessing.html\nanalize_html= https://docs.python.jp/3.6/library/multiprocessing.html\ndownload= https://docs.python.jp/3.6/library/concurrent.html\nanalize_html= https://docs.python.jp/3.6/library/concurrent.html\ndownload= https://docs.python.jp/3.6/library/concurrent.futures.html\nanalize_html= https://docs.python.jp/3.6/library/concurrent.futures.html\ndownload= https://docs.python.jp/3.6/library/subprocess.html\nanalize_html= https://docs.python.jp/3.6/library/subprocess.html\ndownload= https://docs.python.jp/3.6/library/sched.html\nanalize_html= https://docs.python.jp/3.6/library/sched.html\ndownload= https://docs.python.jp/3.6/library/queue.html\nanalize_html= https://docs.python.jp/3.6/library/queue.html\ndownload= https://docs.python.jp/3.6/library/dummy_threading.html\nanalize_html= https://docs.python.jp/3.6/library/dummy_threading.html\ndownload= https://docs.python.jp/3.6/library/_thread.html\nanalize_html= https://docs.python.jp/3.6/library/_thread.html\ndownload= https://docs.python.jp/3.6/library/_dummy_thread.html\nanalize_html= https://docs.python.jp/3.6/library/_dummy_thread.html\ndownload= https://docs.python.jp/3.6/library/ipc.html\nanalize_html= https://docs.python.jp/3.6/library/ipc.html\ndownload= https://docs.python.jp/3.6/library/socket.html\nanalize_html= https://docs.python.jp/3.6/library/socket.html\ndownload= https://docs.python.jp/3.6/library/ssl.html\nanalize_html= https://docs.python.jp/3.6/library/ssl.html\ndownload= https://docs.python.jp/3.6/library/select.html\nanalize_html= https://docs.python.jp/3.6/library/select.html\ndownload= https://docs.python.jp/3.6/library/selectors.html\nanalize_html= https://docs.python.jp/3.6/library/selectors.html\ndownload= https://docs.python.jp/3.6/library/asyncio.html\nanalize_html= https://docs.python.jp/3.6/library/asyncio.html\ndownload= https://docs.python.jp/3.6/library/asyncio-eventloop.html\nanalize_html= https://docs.python.jp/3.6/library/asyncio-eventloop.html\ndownload= https://docs.python.jp/3.6/library/asyncio-eventloops.html\nanalize_html= https://docs.python.jp/3.6/library/asyncio-eventloops.html\ndownload= https://docs.python.jp/3.6/library/asyncio-task.html\nanalize_html= https://docs.python.jp/3.6/library/asyncio-task.html\ndownload= https://docs.python.jp/3.6/library/asyncio-protocol.html\nanalize_html= https://docs.python.jp/3.6/library/asyncio-protocol.html\ndownload= https://docs.python.jp/3.6/library/asyncio-stream.html\nanalize_html= https://docs.python.jp/3.6/library/asyncio-stream.html\ndownload= https://docs.python.jp/3.6/library/asyncio-subprocess.html\nanalize_html= https://docs.python.jp/3.6/library/asyncio-subprocess.html\ndownload= https://docs.python.jp/3.6/library/asyncio-sync.html\nanalize_html= https://docs.python.jp/3.6/library/asyncio-sync.html\ndownload= https://docs.python.jp/3.6/library/asyncio-queue.html\nanalize_html= https://docs.python.jp/3.6/library/asyncio-queue.html\ndownload= https://docs.python.jp/3.6/library/asyncio-dev.html\nanalize_html= https://docs.python.jp/3.6/library/asyncio-dev.html\ndownload= https://docs.python.jp/3.6/library/asyncore.html\nanalize_html= https://docs.python.jp/3.6/library/asyncore.html\ndownload= https://docs.python.jp/3.6/library/asynchat.html\nanalize_html= https://docs.python.jp/3.6/library/asynchat.html\ndownload= https://docs.python.jp/3.6/library/signal.html\nanalize_html= https://docs.python.jp/3.6/library/signal.html\ndownload= https://docs.python.jp/3.6/library/mmap.html\nanalize_html= https://docs.python.jp/3.6/library/mmap.html\ndownload= https://docs.python.jp/3.6/library/netdata.html\nanalize_html= https://docs.python.jp/3.6/library/netdata.html\ndownload= https://docs.python.jp/3.6/library/email.html\nanalize_html= https://docs.python.jp/3.6/library/email.html\ndownload= https://docs.python.jp/3.6/library/email.message.html\nanalize_html= https://docs.python.jp/3.6/library/email.message.html\ndownload= https://docs.python.jp/3.6/library/email.parser.html\nanalize_html= https://docs.python.jp/3.6/library/email.parser.html\ndownload= https://docs.python.jp/3.6/library/email.generator.html\nanalize_html= https://docs.python.jp/3.6/library/email.generator.html\ndownload= https://docs.python.jp/3.6/library/email.policy.html\nanalize_html= https://docs.python.jp/3.6/library/email.policy.html\ndownload= https://docs.python.jp/3.6/library/email.errors.html\nanalize_html= https://docs.python.jp/3.6/library/email.errors.html\ndownload= https://docs.python.jp/3.6/library/email.headerregistry.html\nanalize_html= https://docs.python.jp/3.6/library/email.headerregistry.html\ndownload= https://docs.python.jp/3.6/library/email.contentmanager.html\nanalize_html= https://docs.python.jp/3.6/library/email.contentmanager.html\ndownload= https://docs.python.jp/3.6/library/email.examples.html\nanalize_html= https://docs.python.jp/3.6/library/email.examples.html\ndownload= https://docs.python.jp/3.6/library/email.compat32-message.html\nanalize_html= https://docs.python.jp/3.6/library/email.compat32-message.html\ndownload= https://docs.python.jp/3.6/library/email.mime.html\nanalize_html= https://docs.python.jp/3.6/library/email.mime.html\ndownload= https://docs.python.jp/3.6/library/email.header.html\nanalize_html= https://docs.python.jp/3.6/library/email.header.html\ndownload= https://docs.python.jp/3.6/library/email.charset.html\nanalize_html= https://docs.python.jp/3.6/library/email.charset.html\ndownload= https://docs.python.jp/3.6/library/email.encoders.html\nanalize_html= https://docs.python.jp/3.6/library/email.encoders.html\ndownload= https://docs.python.jp/3.6/library/email.utils.html\nanalize_html= https://docs.python.jp/3.6/library/email.utils.html\ndownload= https://docs.python.jp/3.6/library/email.iterators.html\nanalize_html= https://docs.python.jp/3.6/library/email.iterators.html\ndownload= https://docs.python.jp/3.6/library/json.html\nanalize_html= https://docs.python.jp/3.6/library/json.html\ndownload= https://docs.python.jp/3.6/library/mailcap.html\nanalize_html= https://docs.python.jp/3.6/library/mailcap.html\ndownload= https://docs.python.jp/3.6/library/mailbox.html\nanalize_html= https://docs.python.jp/3.6/library/mailbox.html\ndownload= https://docs.python.jp/3.6/library/mimetypes.html\nanalize_html= https://docs.python.jp/3.6/library/mimetypes.html\ndownload= https://docs.python.jp/3.6/library/base64.html\nanalize_html= https://docs.python.jp/3.6/library/base64.html\ndownload= https://docs.python.jp/3.6/library/binhex.html\nanalize_html= https://docs.python.jp/3.6/library/binhex.html\ndownload= https://docs.python.jp/3.6/library/binascii.html\nanalize_html= https://docs.python.jp/3.6/library/binascii.html\ndownload= https://docs.python.jp/3.6/library/quopri.html\nダウンロード失敗: https://docs.python.jp/3.6/library/quopri.html\ndownload= https://docs.python.jp/3.6/library/uu.html#module-uu\ndownload= https://docs.python.jp/3.6/library/quopri.html#module-quopri\nanalize_html= https://docs.python.jp/3.6/library/quopri.html\nanalize_html= https://docs.python.jp/3.6/library/uu.html\ndownload=https://docs.python.jp/3.6/library/markup.html\nanalize_html= https://docs.python.jp/3.6/library/markup.html\ndownload= https://docs.python.jp/3.6/library/html.html\nanalize_html= https://docs.python.jp/3.6/library/html.html\ndownload= https://docs.python.jp/3.6/library/html.parser.html\nanalize_html= https://docs.python.jp/3.6/library/html.parser.html\ndownload= https://docs.python.jp/3.6/library/html.entities.html\nanalize_html= https://docs.python.jp/3.6/library/html.entities.html\ndownload= https://docs.python.jp/3.6/library/xml.html\nanalize_html= https://docs.python.jp/3.6/library/xml.html\ndownload= https://docs.python.jp/3.6/library/xml.etree.elementtree.html\nanalize_html= https://docs.python.jp/3.6/library/xml.etree.elementtree.html\ndownload= https://docs.python.jp/3.6/library/xml.dom.html\nanalize_html= https://docs.python.jp/3.6/library/xml.dom.html\ndownload= https://docs.python.jp/3.6/library/xml.dom.minidom.html\nanalize_html= https://docs.python.jp/3.6/library/xml.dom.minidom.html\ndownload= https://docs.python.jp/3.6/library/xml.dom.pulldom.html\nanalize_html= https://docs.python.jp/3.6/library/xml.dom.pulldom.html\ndownload= https://docs.python.jp/3.6/library/xml.sax.html\nanalize_html= https://docs.python.jp/3.6/library/xml.sax.html\ndownload= https://docs.python.jp/3.6/library/xml.sax.handler.html\nanalize_html= https://docs.python.jp/3.6/library/xml.sax.handler.html\ndownload=https://docs.python.jp/3.6/library/xml.sax.utils.html\nanalize_html= https://docs.python.jp/3.6/library/xml.sax.utils.html\ndownload= https://docs.python.jp/3.6/library/xml.sax.reader.html\nanalize_html= https://docs.python.jp/3.6/library/xml.sax.reader.html\ndownload= https://docs.python.jp/3.6/library/pyexpat.html\nanalize_html= https://docs.python.jp/3.6/library/pyexpat.html\ndownload= https://docs.python.jp/3.6/library/internet.html\nanalize_html= https://docs.python.jp/3.6/library/internet.html\ndownload= https://docs.python.jp/3.6/library/webbrowser.html\nanalize_html= https://docs.python.jp/3.6/library/webbrowser.html\ndownload= https://docs.python.jp/3.6/library/cgi.html\nanalize_html= https://docs.python.jp/3.6/library/cgi.html\ndownload= https://docs.python.jp/3.6/library/cgitb.html\nanalize_html= https://docs.python.jp/3.6/library/cgitb.html\ndownload= https://docs.python.jp/3.6/library/wsgiref.html\nanalize_html= https://docs.python.jp/3.6/library/wsgiref.html\ndownload= https://docs.python.jp/3.6/library/urllib.html\nanalize_html= https://docs.python.jp/3.6/library/urllib.html\ndownload= https://docs.python.jp/3.6/library/urllib.request.html\nanalize_html= https://docs.python.jp/3.6/library/urllib.request.html\ndownload= https://docs.python.jp/3.6/library/urllib.parse.html\nanalize_html= https://docs.python.jp/3.6/library/urllib.parse.html\ndownload= https://docs.python.jp/3.6/library/urllib.error.html\nanalize_html= https://docs.python.jp/3.6/library/urllib.error.html\ndownload= https://docs.python.jp/3.6/library/urllib.robotparser.html\nanalize_html= https://docs.python.jp/3.6/library/urllib.robotparser.html\ndownload= https://docs.python.jp/3.6/library/http.html\nanalize_html= https://docs.python.jp/3.6/library/http.html\ndownload= https://docs.python.jp/3.6/library/http.client.html\nanalize_html= https://docs.python.jp/3.6/library/http.client.html\ndownload= https://docs.python.jp/3.6/library/ftplib.html\nanalize_html= https://docs.python.jp/3.6/library/ftplib.html\ndownload= https://docs.python.jp/3.6/library/poplib.html\nanalize_html= https://docs.python.jp/3.6/library/poplib.html\ndownload= https://docs.python.jp/3.6/library/imaplib.html\nanalize_html= https://docs.python.jp/3.6/library/imaplib.html\ndownload= https://docs.python.jp/3.6/library/nntplib.html\nanalize_html= https://docs.python.jp/3.6/library/nntplib.html\ndownload= https://docs.python.jp/3.6/library/smtplib.html\nanalize_html= https://docs.python.jp/3.6/library/smtplib.html\ndownload= https://docs.python.jp/3.6/library/smtpd.html\nanalize_html= https://docs.python.jp/3.6/library/smtpd.html\ndownload= https://docs.python.jp/3.6/library/telnetlib.html\nanalize_html= https://docs.python.jp/3.6/library/telnetlib.html\ndownload= https://docs.python.jp/3.6/library/uuid.html\nanalize_html= https://docs.python.jp/3.6/library/uuid.html\ndownload= https://docs.python.jp/3.6/library/socketserver.html\nanalize_html= https://docs.python.jp/3.6/library/socketserver.html\ndownload= https://docs.python.jp/3.6/library/http.server.html\nanalize_html= https://docs.python.jp/3.6/library/http.server.html\ndownload= https://docs.python.jp/3.6/library/http.cookies.html\nanalize_html= https://docs.python.jp/3.6/library/http.cookies.html\ndownload= https://docs.python.jp/3.6/library/http.cookiejar.html\nanalize_html= https://docs.python.jp/3.6/library/http.cookiejar.html\ndownload= https://docs.python.jp/3.6/library/xmlrpc.html\nanalize_html= https://docs.python.jp/3.6/library/xmlrpc.html\ndownload= https://docs.python.jp/3.6/library/xmlrpc.client.html\nanalize_html= https://docs.python.jp/3.6/library/xmlrpc.client.html\ndownload= https://docs.python.jp/3.6/library/xmlrpc.server.html\nanalize_html= https://docs.python.jp/3.6/library/xmlrpc.server.html\ndownload= https://docs.python.jp/3.6/library/ipaddress.html\nanalize_html= https://docs.python.jp/3.6/library/ipaddress.html\ndownload= https://docs.python.jp/3.6/library/mm.html\n"
    }
   ],
   "source": [
    "# Pythonマニュアルを再帰的にダウンロード\n",
    "# モジュールの取り込み\n",
    "from bs4 import BeautifulSoup\n",
    "from urllib.request import urlretrieve\n",
    "from urllib.parse import urljoin, urlparse\n",
    "from os import makedirs\n",
    "import os.path, time, re\n",
    "\n",
    "# 処理済み判断変数\n",
    "proc_files={}\n",
    "\n",
    "# HTML内にあるリンクを抽出する関数\n",
    "def enum_liks(html, base):\n",
    "    soup = BeautifulSoup(html, \"html.parser\")\n",
    "    links = soup.select(\"link[rel='stylesheet']\") # cssを取得\n",
    "    links += soup.select(\"a[href]\") # リンク\n",
    "    result = []\n",
    "    # href属性を抽出し、リンクを絶対パスに変換\n",
    "    for a in links:\n",
    "        href = a.attrs['href']\n",
    "        url = urljoin(base, href)\n",
    "        result.append(url)\n",
    "    return result\n",
    "\n",
    "# ファイルをダウンロードし保存する関数\n",
    "def download_file(url):\n",
    "    o = urlparse(url)\n",
    "    savepath = './' + o.netloc + o.path\n",
    "    if re.search(r\"/$\", savepath): # ディレクトリならindex.html\n",
    "        savepath += \"index.html\"\n",
    "    savedir = os.path.dirname(savepath)\n",
    "    # すでにダウンロード済み？\n",
    "    if os.path.exists(savepath): return savepath\n",
    "    # ダウンロード先のディレクトリを作成\n",
    "    if not os.path.exists(savedir):\n",
    "        print(\"mkdir=\", savedir)\n",
    "        makedirs(savedir)\n",
    "    # ファイルをダウンロード\n",
    "    try:\n",
    "        print(\"download=\", url)\n",
    "        urlretrieve(url, savepath)\n",
    "        time.sleep(1) # 礼儀として1秒sleep\n",
    "        return savepath\n",
    "    except:\n",
    "        print(\"ダウンロード失敗:\", url)\n",
    "        return None\n",
    "\n",
    "# HTMLを解析してダウンロードする関数\n",
    "def analize_html(url, root_url):\n",
    "    savepath = download_file(url)\n",
    "    if savepath is None: return\n",
    "    if savepath in proc_files: return\n",
    "    proc_files[savepath] = True\n",
    "    print(\"analize_html=\",url)\n",
    "    # リンクを抽出\n",
    "    html = open(savepath, \"r\", encoding='utf-8').read()\n",
    "    links = enum_liks(html, url)\n",
    "    for link_url in links:\n",
    "        # リンクがルート以外のパスを指していたらパス\n",
    "        if link_url.find(root_url) != 0:\n",
    "            if not re.search(r\".css$\", link_url): continue\n",
    "        # htmlか\n",
    "        if re.search(r\".(html|htm)$\", link_url):\n",
    "            # 再帰的にHTMLファイルを解析\n",
    "            analize_html(link_url, root_url)\n",
    "            continue\n",
    "        # それ以外のファイル\n",
    "        download_file(link_url)\n",
    "\n",
    "if __name__==\"__main__\":\n",
    "    # urlを丸ごとダウンロード\n",
    "    url = \"https://docs.python.jp/3.6/library/\"\n",
    "    analize_html(url, url)"
   ]
  },
  {
   "cell_type": "code",
   "execution_count": null,
   "metadata": {},
   "outputs": [],
   "source": []
  }
 ],
 "metadata": {
  "language_info": {
   "codemirror_mode": {
    "name": "ipython",
    "version": 3
   },
   "file_extension": ".py",
   "mimetype": "text/x-python",
   "name": "python",
   "nbconvert_exporter": "python",
   "pygments_lexer": "ipython3",
   "version": "3.7.4-final"
  },
  "orig_nbformat": 2,
  "kernelspec": {
   "name": "python37464bitbasecondaa456a6740d7e490db9ca4374186e9e5a",
   "display_name": "Python 3.7.4 64-bit ('base': conda)"
  }
 },
 "nbformat": 4,
 "nbformat_minor": 2
}