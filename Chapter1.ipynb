{
 "cells": [
  {
   "cell_type": "code",
   "execution_count": 2,
   "metadata": {},
   "outputs": [
    {
     "output_type": "stream",
     "name": "stdout",
     "text": "finished download\n"
    }
   ],
   "source": [
    "# 1-1 データのダウンロード\n",
    "# urlli\n",
    "\n",
    "# ライブラリの取り込み\n",
    "import urllib.request\n",
    "\n",
    "# URLと保存パスを指定\n",
    "url = 'https://uta.pw/shodou/img/28/214.png'\n",
    "savename = '../data/test.png'\n",
    "\n",
    "# Download\n",
    "urllib.request.urlretrieve(url, savename)\n",
    "print('finished download')"
   ]
  },
  {
   "cell_type": "code",
   "execution_count": 3,
   "metadata": {},
   "outputs": [
    {
     "output_type": "stream",
     "name": "stdout",
     "text": "finished download\n"
    }
   ],
   "source": [
    "# urlopen()を使用する方法\n",
    "# Import library\n",
    "import urllib.request\n",
    "\n",
    "# setting\n",
    "url = 'https://uta.pw/shodou/img/28/214.png'\n",
    "savename = '../data/test2_urlopen.png'\n",
    "\n",
    "# download\n",
    "mem = urllib.request.urlopen(url).read() # メモリー上にデータが展開(binary)\n",
    "\n",
    "# save a file\n",
    "with open(savename, mode='wb') as f: # binaryのためb\n",
    "    f.write(mem)\n",
    "    print('finished download')"
   ]
  },
  {
   "cell_type": "code",
   "execution_count": 5,
   "metadata": {},
   "outputs": [
    {
     "output_type": "stream",
     "name": "stdout",
     "text": "[ip]\nAPI_URI=http://api.aoikujira.com/ip/get.php\nREMOTE_ADDR=126.243.78.33\nREMOTE_HOST=softbank126243078033.bbtec.net\nREMOTE_PORT=48690\nHTTP_HOST=api.aoikujira.com\nHTTP_USER_AGENT=Python-urllib/3.7\nHTTP_ACCEPT_LANGUAGE=\nHTTP_ACCEPT_CHARSET=\nSERVER_PORT=443\nFORMAT=ini\n\n\n"
    }
   ],
   "source": [
    "# Webからデータを取得\n",
    "# クジラWeb API : https://api.aoikujira.com/\n",
    "# クライアントの接続情報を表示\n",
    "# IP確認ＡＰＩへアクセスして結果を表示\n",
    "# Import module\n",
    "import urllib.request\n",
    "\n",
    "# setting\n",
    "url = 'https://api.aoikujira.com/ip/ini'\n",
    "\n",
    "# Get data\n",
    "res = urllib.request.urlopen(url)\n",
    "data = res.read()\n",
    "\n",
    "# translate binary data\n",
    "text = data.decode('utf-8')\n",
    "print(text)"
   ]
  },
  {
   "cell_type": "code",
   "execution_count": 10,
   "metadata": {},
   "outputs": [
    {
     "output_type": "stream",
     "name": "stdout",
     "text": "url = https://api.aoikujira.com/zip/xml/get.php?fmt=xml&zn=1500042\n<?xml version=\"1.0\" encoding=\"utf-8\" ?>\n<address result=\"1\">\n<header>\n  <result>1</result>\n  <api>api.aoikujira.com/zip</api>\n  <version>1.1</version>\n</header>\n<value>\n  <zip>1500042</zip>\n  <ken>東京都</ken>\n  <shi>渋谷区</shi>\n  <cho>宇田川町</cho>\n  <disp>東京都渋谷区宇田川町</disp>\n  <kenkana>トウキョウト</kenkana>\n  <shikana>シブヤク</shikana>\n  <chokana>ウダガワチョウ</chokana>\n</value>\n</address>\n"
    }
   ],
   "source": [
    "# 任意のパラメータを付けてリクエストを送信する方法\n",
    "# 住所検索APIのエントリーポイント\n",
    "# パラメータ: fmt - formatの指定(json, xml), zn - 郵便番号を指定\n",
    "# Import module\n",
    "import urllib.request\n",
    "import urllib.parse\n",
    "\n",
    "API ='https://api.aoikujira.com/zip/xml/get.php'\n",
    "\n",
    "# パラメータをURLエンコードする\n",
    "values = {\n",
    "    'fmt': 'xml',\n",
    "    'zn': '1500042'\n",
    "}\n",
    "params = urllib.parse.urlencode(values)\n",
    "\n",
    "# リクエスト用のURL生成\n",
    "url = API + \"?\" + params\n",
    "print('url =', url)\n",
    "\n",
    "# download\n",
    "data = urllib.request.urlopen(url).read()\n",
    "text = data.decode('utf-8')\n",
    "print(text)"
   ]
  },
  {
   "cell_type": "markdown",
   "metadata": {},
   "source": [
    "### memo\n",
    "- URLパラメータの与え方：末尾に'?'を書いて、key=valueの形式で記述。複数与える場合は'&'で繋げる"
   ]
  },
  {
   "cell_type": "code",
   "execution_count": 12,
   "metadata": {},
   "outputs": [
    {
     "output_type": "stream",
     "name": "stdout",
     "text": "url = https://api.aoikujira.com/hyakunin/get.php?fmt=ini&key=%E3%81%A1%E3%81%8E%E3%82%8A%E3%81%8D%E3%81%AA\n[item42]\nkami=ちぎりきな かたみに袖を しぼりつつ\nsimo=末の松山 波こさじとは\nkami_kana=ちきりきなかたみにそてをしほりつつ\nsimo_kana=すゑのまつやまなみこさしとは\nsakusya=清原元輔\n\n\n"
    }
   ],
   "source": [
    "# 百人一首を検索するコマンドを自作してみる\n",
    "# エントリポイント: https://api.aoikujira.com/hyakunin/get.php\n",
    "# parameters\n",
    "# fmt : ini | xml | json\n",
    "# key : search keywords\n",
    "\n",
    "# Import module\n",
    "import sys\n",
    "import urllib.request as req\n",
    "import urllib.parse as parse\n",
    "\n",
    "# # コマンドライン引数を得る -- カット\n",
    "# if len(sys.argv) <= 1:\n",
    "#     print('USAGE: hyakunin.py (keyword)')\n",
    "#     sys.exit()\n",
    "# keyword = sys.argv[1]\n",
    "# keyword = '秋の田'\n",
    "keyword = 'ちぎりきな'\n",
    "\n",
    "# パラメータをエンコード\n",
    "API = 'https://api.aoikujira.com/hyakunin/get.php'\n",
    "query = {\n",
    "    'fmt':'ini',\n",
    "    'key':keyword\n",
    "}\n",
    "params = parse.urlencode(query)\n",
    "url = API + '?' + params\n",
    "print('url =', url)\n",
    "\n",
    "# download\n",
    "with req.urlopen(url) as r:\n",
    "    binarydata = r.read()\n",
    "    text = binarydata.decode('utf-8')\n",
    "    print(text)\n"
   ]
  },
  {
   "cell_type": "code",
   "execution_count": 2,
   "metadata": {},
   "outputs": [
    {
     "output_type": "error",
     "ename": "AttributeError",
     "evalue": "'NoneType' object has no attribute 'next_sibling'",
     "traceback": [
      "\u001b[1;31m---------------------------------------------------------------------------\u001b[0m",
      "\u001b[1;31mAttributeError\u001b[0m                            Traceback (most recent call last)",
      "\u001b[1;32m<ipython-input-2-f27c28ba5e7f>\u001b[0m in \u001b[0;36m<module>\u001b[1;34m\u001b[0m\n\u001b[0;32m     19\u001b[0m \u001b[0mh1\u001b[0m \u001b[1;33m=\u001b[0m \u001b[0msoup\u001b[0m\u001b[1;33m.\u001b[0m\u001b[0mhtml\u001b[0m\u001b[1;33m.\u001b[0m\u001b[0mbody\u001b[0m\u001b[1;33m.\u001b[0m\u001b[0mh1\u001b[0m\u001b[1;33m\u001b[0m\u001b[1;33m\u001b[0m\u001b[0m\n\u001b[0;32m     20\u001b[0m \u001b[0mp1\u001b[0m \u001b[1;33m=\u001b[0m \u001b[0msoup\u001b[0m\u001b[1;33m.\u001b[0m\u001b[0mhtml\u001b[0m\u001b[1;33m.\u001b[0m\u001b[0mbody\u001b[0m\u001b[1;33m.\u001b[0m\u001b[0mp\u001b[0m\u001b[1;33m\u001b[0m\u001b[1;33m\u001b[0m\u001b[0m\n\u001b[1;32m---> 21\u001b[1;33m \u001b[0mp2\u001b[0m \u001b[1;33m=\u001b[0m \u001b[0mp1\u001b[0m\u001b[1;33m.\u001b[0m\u001b[0mnext_sibling\u001b[0m\u001b[1;33m.\u001b[0m\u001b[0mnext_sibling\u001b[0m\u001b[1;33m\u001b[0m\u001b[1;33m\u001b[0m\u001b[0m\n\u001b[0m\u001b[0;32m     22\u001b[0m \u001b[1;33m\u001b[0m\u001b[0m\n\u001b[0;32m     23\u001b[0m \u001b[1;31m# 要素をテキスト表示\u001b[0m\u001b[1;33m\u001b[0m\u001b[1;33m\u001b[0m\u001b[1;33m\u001b[0m\u001b[0m\n",
      "\u001b[1;31mAttributeError\u001b[0m: 'NoneType' object has no attribute 'next_sibling'"
     ]
    }
   ],
   "source": [
    "# 1-2 BeautifulSoup\n",
    "# 基本的な使い方\n",
    "# Import module\n",
    "from bs4 import BeautifulSoup\n",
    "\n",
    "# 解析したXML\n",
    "html = \"\"\"\n",
    "<html><body>\n",
    "    <h1>スクレイピングとは?</h1>\n",
    "    <p>Webページを解析すること</p>\n",
    "    <p>任意の箇所を抽出すること</p>\n",
    "</body></html>\n",
    "\"\"\"\n",
    "\n",
    "# HTMLを解析する\n",
    "soup = BeautifulSoup(html, 'html.parser')\n",
    "\n",
    "# 任意の部分を抽出する\n",
    "h1 = soup.html.body.h1\n",
    "p1 = soup.html.body.p\n",
    "p2 = p1.next_sibling.next_sibling\n",
    "\n",
    "# 要素をテキスト表示\n",
    "print(h1.string)\n",
    "print(p1.string)\n",
    "print(p2.string)"
   ]
  },
  {
   "cell_type": "code",
   "execution_count": null,
   "metadata": {},
   "outputs": [],
   "source": []
  }
 ],
 "metadata": {
  "language_info": {
   "codemirror_mode": {
    "name": "ipython",
    "version": 3
   },
   "file_extension": ".py",
   "mimetype": "text/x-python",
   "name": "python",
   "nbconvert_exporter": "python",
   "pygments_lexer": "ipython3",
   "version": "3.7.4-final"
  },
  "orig_nbformat": 2,
  "kernelspec": {
   "name": "python37464bitbasecondaa456a6740d7e490db9ca4374186e9e5a",
   "display_name": "Python 3.7.4 64-bit ('base': conda)"
  }
 },
 "nbformat": 4,
 "nbformat_minor": 2
}