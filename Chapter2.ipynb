{
 "cells": [
  {
   "cell_type": "code",
   "execution_count": 8,
   "metadata": {
    "tags": []
   },
   "outputs": [
    {
     "output_type": "stream",
     "name": "stdout",
     "text": "マイページ= https://uta.pw/sakusibbs/users.php?user_id=1417\n- いっぽいっぽ by Shibutsuki > post.php?mml_id=888\n- avavavavavava by poyopoyo > post.php?mml_id=889\n"
    }
   ],
   "source": [
    "# Chapter2\n",
    "# 作詞掲示板にログインしてお気に入りの歌詞を取得する\n",
    "import requests\n",
    "from bs4 import BeautifulSoup\n",
    "from urllib.parse import urljoin\n",
    "\n",
    "# ユーザ名とパスワード\n",
    "USER = 'tatsuro'\n",
    "PASSWORD = 'tatsuro'\n",
    "\n",
    "# セッションを開始\n",
    "session = requests.session()\n",
    "\n",
    "# ログイン\n",
    "login_info = {\n",
    "    'username_mmlbbs6': USER,\n",
    "    'password_mmlbbs6': PASSWORD,\n",
    "    'back': 'index.php',\n",
    "    'mml_id': '0'\n",
    "}\n",
    "\n",
    "url_login = 'https://uta.pw/sakusibbs/users.php?action=login&m=try'\n",
    "res = session.post(url_login,data=login_info)\n",
    "res.raise_for_status() # エラーならここで例外を発生させる\n",
    "\n",
    "# マイページのURLをピックアップする\n",
    "soup = BeautifulSoup(res.text, 'html.parser')\n",
    "a = soup.select_one('.islogin a') # ログインしていなければ.islogin aがない\n",
    "if a is None:\n",
    "    print('マイページが取得できませんでした。')\n",
    "    quit()\n",
    "# 相対URLを絶対URLに変換\n",
    "url_mypage = urljoin(url_login, a.attrs['href'])\n",
    "print('マイページ=', url_mypage)\n",
    "\n",
    "# マイページにアクセス\n",
    "res = session.get(url_mypage)\n",
    "res.raise_for_status()\n",
    "\n",
    "# お気に入りの歌詞のタイトルを列挙\n",
    "soup = BeautifulSoup(res.text, 'html.parser')\n",
    "links = soup.select('#favlist li > a')\n",
    "for a in links:\n",
    "    href = a.attrs['href']\n",
    "    title = a.get_text()\n",
    "    print('-', title, '>', href)"
   ]
  },
  {
   "cell_type": "code",
   "execution_count": 6,
   "metadata": {},
   "outputs": [
    {
     "output_type": "execute_result",
     "data": {
      "text/plain": "'https://uta.pw/sakusibbs/users.php?user_id=1417'"
     },
     "metadata": {},
     "execution_count": 6
    }
   ],
   "source": [
    "url_mypage"
   ]
  },
  {
   "cell_type": "code",
   "execution_count": 9,
   "metadata": {},
   "outputs": [],
   "source": [
    "r = requests.get('http://google.com')"
   ]
  },
  {
   "cell_type": "code",
   "execution_count": 13,
   "metadata": {},
   "outputs": [
    {
     "output_type": "execute_result",
     "data": {
      "text/plain": "<RequestsCookieJar[Cookie(version=0, name='1P_JAR', value='2020-06-23-13', port=None, port_specified=False, domain='.google.com', domain_specified=True, domain_initial_dot=True, path='/', path_specified=True, secure=True, expires=1595512408, discard=False, comment=None, comment_url=None, rest={}, rfc2109=False), Cookie(version=0, name='NID', value='204=rUeRvcfj6orBiwk2wx3db9WubFz3Shf47KhShq0xBs47LRBqiympJMwLCMIqbJSqGiwR_CNg88AOZsKK4e-RHleoBg5KaMoo4AuuOy5I8qQyJpO-fYueGV9EahquQK94qhKYD7fBZUf3T0OtAK2tJ4Zok7FrOjsvxzXEhDs-zPw', port=None, port_specified=False, domain='.google.com', domain_specified=True, domain_initial_dot=True, path='/', path_specified=True, secure=False, expires=1608731608, discard=False, comment=None, comment_url=None, rest={'HttpOnly': None}, rfc2109=False)]>"
     },
     "metadata": {},
     "execution_count": 13
    }
   ],
   "source": [
    "r.cookies"
   ]
  },
  {
   "cell_type": "code",
   "execution_count": 14,
   "metadata": {
    "tags": []
   },
   "outputs": [
    {
     "output_type": "stream",
     "name": "stdout",
     "text": "2020/06/23 22:58:02\nb'2020/06/23 22:58:02'\n"
    }
   ],
   "source": [
    "import requests\n",
    "r = requests.get('https://api.aoikujira.com/time/get.php')\n",
    "\n",
    "# テキスト形式でデータを得る\n",
    "text = r.text\n",
    "print(text)\n",
    "\n",
    "# バイナリー形式でデータを得る\n",
    "bin = r.content\n",
    "print(bin)"
   ]
  },
  {
   "cell_type": "code",
   "execution_count": 15,
   "metadata": {
    "tags": []
   },
   "outputs": [
    {
     "output_type": "stream",
     "name": "stdout",
     "text": "saved\n"
    }
   ],
   "source": [
    "# 画像データを取得\n",
    "import requests\n",
    "r = requests.get('https://uta.pw/shodou/img/3/3.png')\n",
    "\n",
    "# バイナリー形式でデータを得て保存\n",
    "with open('./data/test.png', 'wb') as f:\n",
    "    f.write(r.content)\n",
    "\n",
    "print('saved')"
   ]
  },
  {
   "cell_type": "code",
   "execution_count": 16,
   "metadata": {},
   "outputs": [],
   "source": [
    "# Chapter2-2\n",
    "# chromedriver installed"
   ]
  },
  {
   "cell_type": "code",
   "execution_count": null,
   "metadata": {},
   "outputs": [],
   "source": []
  }
 ],
 "metadata": {
  "language_info": {
   "codemirror_mode": {
    "name": "ipython",
    "version": 3
   },
   "file_extension": ".py",
   "mimetype": "text/x-python",
   "name": "python",
   "nbconvert_exporter": "python",
   "pygments_lexer": "ipython3",
   "version": "3.7.4-final"
  },
  "orig_nbformat": 2,
  "kernelspec": {
   "name": "python37464bitbasecondaa456a6740d7e490db9ca4374186e9e5a",
   "display_name": "Python 3.7.4 64-bit ('base': conda)"
  }
 },
 "nbformat": 4,
 "nbformat_minor": 2
}