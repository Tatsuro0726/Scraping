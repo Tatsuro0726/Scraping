{
 "cells": [
  {
   "cell_type": "code",
   "execution_count": 8,
   "metadata": {
    "tags": []
   },
   "outputs": [
    {
     "output_type": "stream",
     "name": "stdout",
     "text": "マイページ= https://uta.pw/sakusibbs/users.php?user_id=1417\n- いっぽいっぽ by Shibutsuki > post.php?mml_id=888\n- avavavavavava by poyopoyo > post.php?mml_id=889\n"
    }
   ],
   "source": [
    "# Chapter2\n",
    "# 作詞掲示板にログインしてお気に入りの歌詞を取得する\n",
    "import requests\n",
    "from bs4 import BeautifulSoup\n",
    "from urllib.parse import urljoin\n",
    "\n",
    "# ユーザ名とパスワード\n",
    "USER = 'tatsuro'\n",
    "PASSWORD = 'tatsuro'\n",
    "\n",
    "# セッションを開始\n",
    "session = requests.session()\n",
    "\n",
    "# ログイン\n",
    "login_info = {\n",
    "    'username_mmlbbs6': USER,\n",
    "    'password_mmlbbs6': PASSWORD,\n",
    "    'back': 'index.php',\n",
    "    'mml_id': '0'\n",
    "}\n",
    "\n",
    "url_login = 'https://uta.pw/sakusibbs/users.php?action=login&m=try'\n",
    "res = session.post(url_login,data=login_info)\n",
    "res.raise_for_status() # エラーならここで例外を発生させる\n",
    "\n",
    "# マイページのURLをピックアップする\n",
    "soup = BeautifulSoup(res.text, 'html.parser')\n",
    "a = soup.select_one('.islogin a') # ログインしていなければ.islogin aがない\n",
    "if a is None:\n",
    "    print('マイページが取得できませんでした。')\n",
    "    quit()\n",
    "# 相対URLを絶対URLに変換\n",
    "url_mypage = urljoin(url_login, a.attrs['href'])\n",
    "print('マイページ=', url_mypage)\n",
    "\n",
    "# マイページにアクセス\n",
    "res = session.get(url_mypage)\n",
    "res.raise_for_status()\n",
    "\n",
    "# お気に入りの歌詞のタイトルを列挙\n",
    "soup = BeautifulSoup(res.text, 'html.parser')\n",
    "links = soup.select('#favlist li > a')\n",
    "for a in links:\n",
    "    href = a.attrs['href']\n",
    "    title = a.get_text()\n",
    "    print('-', title, '>', href)"
   ]
  },
  {
   "cell_type": "code",
   "execution_count": 6,
   "metadata": {},
   "outputs": [
    {
     "output_type": "execute_result",
     "data": {
      "text/plain": "'https://uta.pw/sakusibbs/users.php?user_id=1417'"
     },
     "metadata": {},
     "execution_count": 6
    }
   ],
   "source": [
    "url_mypage"
   ]
  },
  {
   "cell_type": "code",
   "execution_count": 9,
   "metadata": {},
   "outputs": [],
   "source": [
    "r = requests.get('http://google.com')"
   ]
  },
  {
   "cell_type": "code",
   "execution_count": 13,
   "metadata": {},
   "outputs": [
    {
     "output_type": "execute_result",
     "data": {
      "text/plain": "<RequestsCookieJar[Cookie(version=0, name='1P_JAR', value='2020-06-23-13', port=None, port_specified=False, domain='.google.com', domain_specified=True, domain_initial_dot=True, path='/', path_specified=True, secure=True, expires=1595512408, discard=False, comment=None, comment_url=None, rest={}, rfc2109=False), Cookie(version=0, name='NID', value='204=rUeRvcfj6orBiwk2wx3db9WubFz3Shf47KhShq0xBs47LRBqiympJMwLCMIqbJSqGiwR_CNg88AOZsKK4e-RHleoBg5KaMoo4AuuOy5I8qQyJpO-fYueGV9EahquQK94qhKYD7fBZUf3T0OtAK2tJ4Zok7FrOjsvxzXEhDs-zPw', port=None, port_specified=False, domain='.google.com', domain_specified=True, domain_initial_dot=True, path='/', path_specified=True, secure=False, expires=1608731608, discard=False, comment=None, comment_url=None, rest={'HttpOnly': None}, rfc2109=False)]>"
     },
     "metadata": {},
     "execution_count": 13
    }
   ],
   "source": [
    "r.cookies"
   ]
  },
  {
   "cell_type": "code",
   "execution_count": 14,
   "metadata": {
    "tags": []
   },
   "outputs": [
    {
     "output_type": "stream",
     "name": "stdout",
     "text": "2020/06/23 22:58:02\nb'2020/06/23 22:58:02'\n"
    }
   ],
   "source": [
    "import requests\n",
    "r = requests.get('https://api.aoikujira.com/time/get.php')\n",
    "\n",
    "# テキスト形式でデータを得る\n",
    "text = r.text\n",
    "print(text)\n",
    "\n",
    "# バイナリー形式でデータを得る\n",
    "bin = r.content\n",
    "print(bin)"
   ]
  },
  {
   "cell_type": "code",
   "execution_count": 15,
   "metadata": {
    "tags": []
   },
   "outputs": [
    {
     "output_type": "stream",
     "name": "stdout",
     "text": "saved\n"
    }
   ],
   "source": [
    "# 画像データを取得\n",
    "import requests\n",
    "r = requests.get('https://uta.pw/shodou/img/3/3.png')\n",
    "\n",
    "# バイナリー形式でデータを得て保存\n",
    "with open('./data/test.png', 'wb') as f:\n",
    "    f.write(r.content)\n",
    "\n",
    "print('saved')"
   ]
  },
  {
   "cell_type": "code",
   "execution_count": null,
   "metadata": {},
   "outputs": [],
   "source": [
    "# Chapter2-2\n",
    "# chromedriver installed\n",
    "from selenium.webdriver import ChromeOptions, Chrome\n",
    "\n",
    "url = 'https://www.aozora.gr.jp/cards/000081/files/46268_23911.html'\n",
    "\n",
    "# ヘッドレスモードを有効にする\n",
    "options = ChromeOptions()\n",
    "options.add_argument('-headless')\n",
    "\n",
    "browser = Chrome(options=options)\n",
    "\n",
    "# URLを読み込む\n",
    "browser.get(url)\n",
    "\n",
    "# 画面をキャプチャーしてファイルに保存\n",
    "browser.save_screenshot('./data/website.png')\n",
    "browser.quit()"
   ]
  },
  {
   "cell_type": "code",
   "execution_count": 4,
   "metadata": {
    "tags": []
   },
   "outputs": [
    {
     "output_type": "stream",
     "name": "stdout",
     "text": "+ 都市= Tokyo\n| 天気= broken clouds\n| 最高気温= 22.430000000000007\n| 最低気温= 21.319999999999993\n| 湿度= 94\n| 気圧= 1008\n| 風速度= 4.6\n\n+ 都市= London\n| 天気= clear sky\n| 最高気温= 30.75999999999999\n| 最低気温= 28.649999999999977\n| 湿度= 35\n| 気圧= 1015\n| 風速度= 5.1\n\n+ 都市= New York\n| 天気= clear sky\n| 最高気温= 24.649999999999977\n| 最低気温= 22.649999999999977\n| 湿度= 53\n| 気圧= 1015\n| 風速度= 1.69\n\n"
    }
   ],
   "source": [
    "# 2-4 Web APIからのデータ取得\n",
    "import requests\n",
    "import json\n",
    "\n",
    "# API Key\n",
    "apikey = '236d92e14f455ae48c839dbf7a520a7b'\n",
    "\n",
    "cities = ['Tokyo,JP', 'London,UK', 'New York,US']\n",
    "\n",
    "api = 'https://api.openweathermap.org/data/2.5/weather?q={city}&APPID={key}'\n",
    "\n",
    "k2c = lambda k: k-273.5\n",
    "\n",
    "for name in cities:\n",
    "    # APIのURLを得る\n",
    "    url = api.format(city=name, key=apikey)\n",
    "    r = requests.get(url)\n",
    "\n",
    "    data = json.loads(r.text)\n",
    "\n",
    "    print('+ 都市=', data['name'])\n",
    "    print('| 天気=', data['weather'][0]['description'])\n",
    "    print('| 最高気温=', k2c(data['main']['temp_max']))\n",
    "    print('| 最低気温=', k2c(data['main']['temp_min']))\n",
    "    print('| 湿度=', data['main']['humidity'])\n",
    "    print('| 気圧=', data['main']['pressure'])\n",
    "    print('| 風速度=', data['wind']['speed'])\n",
    "    print('')"
   ]
  },
  {
   "cell_type": "code",
   "execution_count": 5,
   "metadata": {},
   "outputs": [
    {
     "output_type": "execute_result",
     "data": {
      "text/plain": "{'coord': {'lon': -74.01, 'lat': 40.71},\n 'weather': [{'id': 800,\n   'main': 'Clear',\n   'description': 'clear sky',\n   'icon': '01d'}],\n 'base': 'stations',\n 'main': {'temp': 297.09,\n  'feels_like': 297.09,\n  'temp_min': 296.15,\n  'temp_max': 298.15,\n  'pressure': 1015,\n  'humidity': 53},\n 'visibility': 16093,\n 'wind': {'speed': 1.69, 'deg': 339},\n 'clouds': {'all': 1},\n 'dt': 1593088361,\n 'sys': {'type': 1,\n  'id': 4610,\n  'country': 'US',\n  'sunrise': 1593077174,\n  'sunset': 1593131471},\n 'timezone': -14400,\n 'id': 5128581,\n 'name': 'New York',\n 'cod': 200}"
     },
     "metadata": {},
     "execution_count": 5
    }
   ],
   "source": [
    "data"
   ]
  },
  {
   "cell_type": "code",
   "execution_count": null,
   "metadata": {},
   "outputs": [],
   "source": []
  }
 ],
 "metadata": {
  "language_info": {
   "codemirror_mode": {
    "name": "ipython",
    "version": 3
   },
   "file_extension": ".py",
   "mimetype": "text/x-python",
   "name": "python",
   "nbconvert_exporter": "python",
   "pygments_lexer": "ipython3",
   "version": "3.7.4-final"
  },
  "orig_nbformat": 2,
  "kernelspec": {
   "name": "python37464bitbasecondaa456a6740d7e490db9ca4374186e9e5a",
   "display_name": "Python 3.7.4 64-bit ('base': conda)"
  }
 },
 "nbformat": 4,
 "nbformat_minor": 2
}