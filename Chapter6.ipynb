{
 "metadata": {
  "language_info": {
   "codemirror_mode": {
    "name": "ipython",
    "version": 3
   },
   "file_extension": ".py",
   "mimetype": "text/x-python",
   "name": "python",
   "nbconvert_exporter": "python",
   "pygments_lexer": "ipython3",
   "version": 3
  },
  "orig_nbformat": 2,
  "kernelspec": {
   "name": "python_defaultSpec_1595488574369",
   "display_name": "Python 3.7.6 64-bit ('base': conda)"
  }
 },
 "nbformat": 4,
 "nbformat_minor": 2,
 "cells": [
  {
   "cell_type": "markdown",
   "metadata": {},
   "source": [
    "## Chapter6\n",
    "### テキスト解析とチャットボット作成"
   ]
  },
  {
   "cell_type": "markdown",
   "metadata": {},
   "source": [
    "### Chapter6-1\n",
    "形態要素解析 Morphological Analysis\n",
    "\n",
    "形態要素解析とは、自然言語の文章を意味を持つ最小の単位である「形態素」に分割し、品詞を判別する作業。\n",
    "形態素解析は、機械翻訳や、かな漢字変換、また、テキストマイニングなど様々な分野で利用されている。\n",
    "\n",
    "日本語の形態要素解析を行うのは工夫が必要。\n",
    "- _文法規則_による方法\n",
    "- _確率的言語モデル_を用いる方法 ※最近人気"
   ]
  },
  {
   "cell_type": "code",
   "execution_count": 5,
   "metadata": {
    "tags": []
   },
   "outputs": [
    {
     "output_type": "stream",
     "name": "stdout",
     "text": "庭\tニワ\tニワ\t庭\t名詞-普通名詞-一般\t\t\t0\nに\tニ\tニ\tに\t助詞-格助詞\t\t\t\nは\tワ\tハ\tは\t助詞-係助詞\t\t\t\n二\tフタ\tフタ\t二\t名詞-数詞\t\t\t2\n羽\tワ\tワ\t羽\t接尾辞-名詞的-助数詞\t\t\t\n鶏\tニワトリ\tニワトリ\t鶏\t名詞-普通名詞-一般\t\t\t0\nが\tガ\tガ\tが\t助詞-格助詞\t\t\t\nいる\tイル\tイル\t居る\t動詞-非自立可能\t上一段-ア行\t終止形-一般\t0\n。\t\t\t。\t補助記号-句点\t\t\t\nEOS\n\n"
    }
   ],
   "source": [
    "# MeCab 定番ライブラリー\n",
    "import MeCab\n",
    "mecab = MeCab.Tagger() # MeCabオブジェクト生成\n",
    "malist = mecab.parse('庭には二羽鶏がいる。') # 形態要素解析\n",
    "print(malist)\n"
   ]
  },
  {
   "cell_type": "code",
   "execution_count": 6,
   "metadata": {
    "tags": []
   },
   "outputs": [
    {
     "output_type": "stream",
     "name": "stdout",
     "text": "庭\t名詞,一般,*,*,*,*,庭,ニワ,ニワ\nに\t助詞,格助詞,一般,*,*,*,に,ニ,ニ\nは\t助詞,係助詞,*,*,*,*,は,ハ,ワ\n二\t名詞,数,*,*,*,*,二,ニ,ニ\n羽\t名詞,接尾,助数詞,*,*,*,羽,ワ,ワ\n鶏\t名詞,一般,*,*,*,*,鶏,ニワトリ,ニワトリ\nが\t助詞,格助詞,一般,*,*,*,が,ガ,ガ\nいる\t動詞,自立,*,*,一段,基本形,いる,イル,イル\n。\t記号,句点,*,*,*,*,。,。,。\n"
    }
   ],
   "source": [
    "# ピュアPython解析器「Janome」\n",
    "from janome.tokenizer import Tokenizer\n",
    "t = Tokenizer()\n",
    "malist = t.tokenize('庭には二羽鶏がいる。')\n",
    "for n in malist:\n",
    "    print(n)"
   ]
  },
  {
   "cell_type": "code",
   "execution_count": 26,
   "metadata": {
    "tags": []
   },
   "outputs": [],
   "source": [
    "from janome.tokenizer import Tokenizer\n",
    "import zipfile\n",
    "import os.path, urllib.request as req\n",
    "\n",
    "# 銀河鉄道の夜のZIPファイルをダウンロード\n",
    "url = 'http://www.aozora.gr.jp/cards/000081/files/456_ruby_145.zip'\n",
    "local = '456_ruby_145.zip'\n",
    "if not os.path.exists(local):\n",
    "    print('ZIPファイルをダウンロード')\n",
    "    req.urlretrieve(url, local)\n",
    "\n",
    "# ZIPファイル内のテキストファイルを読み込む\n",
    "zf = zipfile.ZipFile(local, 'r') # ZIPファイルを読み込む\n",
    "fp = zf.open('gingatetsudono_yoru.txt', 'r') # アーカイブ内のテキストを読む\n",
    "bindata = fp.read()\n",
    "txt = bindata.decode('shift_jis') # テキストがshift_JISなのでデコード\n",
    "\n",
    "# 形態要素解析オブジェクトの生成\n",
    "t = Tokenizer()\n",
    "\n",
    "# テキストを一行ずつ処理\n",
    "word_dic = {}\n",
    "lines = txt.split('/r/n')\n",
    "for line in lines:\n",
    "    malist = t.tokenize(line)\n",
    "    for w in malist:\n",
    "        word = w.surface\n",
    "        ps = w.part_of_speech # 品詞\n",
    "        if ps.find('名詞') < 0: continue # 名詞だけカウント：find(***)　⇒ ***が出現する位置を返す, continueは下の処理をせずforの位置に戻ることを指す\n",
    "        if not word in word_dic:\n",
    "            word_dic[word] = 0\n",
    "        word_dic[word] += 1\n",
    "\n"
   ]
  },
  {
   "cell_type": "code",
   "execution_count": 25,
   "metadata": {
    "tags": []
   },
   "outputs": [
    {
     "output_type": "stream",
     "name": "stdout",
     "text": "0位：209回 よう \n1位：206回 の \n2位：190回 ジョバンニ \n3位：102回 人 \n4位：101回 カムパネルラ \n5位：101回 ん \n6位：66回 方 \n7位：65回 中 \n8位：59回 ぼく \n9位：57回 それ \n10位：56回 たち \n11位：54回 みんな \n12位：53回 二 \n13位：47回 一 \n14位：46回 何 \n15位：45回 ほんとう \n16位：45回 鳥 \n17位：43回 どこ \n18位：39回 こと \n19位：39回 窓 \n20位：39回 汽車 \n21位：38回 前 \n22位：38回 そう \n23位：38回 いま \n24位：37回 眼 \n25位：35回 川 \n26位：35回 とき \n27位：33回 僕 \n28位：32回 もの \n29位：30回 たくさん \n30位：29回 水 \n31位：29回 お \n32位：29回 ら \n33位：28回 青年 \n34位：27回 銀河 \n35位：27回 そこ \n36位：27回 こっち \n37位：27回 さっき \n38位：26回 上 \n39位：26回 ろ \n40位：26回 風 \n41位：25回 星 \n42位：25回 顔 \n43位：25回 向う \n44位：25回 女の子 \n45位：24回 野原 \n46位：23回 お父さん \n47位：23回 天の川 \n48位：22回 声 \n49位：21回 い \n"
    }
   ],
   "source": [
    "# よく使われる単語を表示\n",
    "keys = sorted(word_dic.items(), key=lambda x:x[1], reverse=True)\n",
    "for i, key in enumerate(keys[:50]):\n",
    "    print('{0}位：{1}回 {2} '.format(i,key[1],key[0]))"
   ]
  },
  {
   "cell_type": "code",
   "execution_count": 28,
   "metadata": {
    "tags": []
   },
   "outputs": [],
   "source": [
    "# 夏目漱石の「こころ」もカウントする\n",
    "from janome.tokenizer import Tokenizer\n",
    "import os.path, urllib.request as req\n",
    "import zipfile\n",
    "\n",
    "url = 'http://www.aozora.gr.jp/cards/000148/files/773_ruby_5968.zip'\n",
    "local = '773_ruby_5968.zip'\n",
    "\n",
    "# ディレクトリ確認\n",
    "if not os.path.exists(local):\n",
    "    print('Zipファイルダウンロード')\n",
    "    req.urlretrieve(url, local)\n",
    "\n",
    "# ZIPファイル読み込み\n",
    "zp = zipfile.ZipFile(local)\n",
    "fp = zp.open('kokoro.txt', 'r')\n",
    "bindata = fp.read()\n",
    "txt = bindata.decode('shift_jis')\n",
    "\n",
    "# 形態要素解析\n",
    "t = Tokenizer()\n",
    "\n",
    "# カウント用dict作成\n",
    "word_dic = {}\n",
    "lines = txt.split('\\r\\n')\n",
    "for line in lines:\n",
    "    malist = t.tokenize(line)\n",
    "    for w in malist:\n",
    "        # 文字だけ\n",
    "        word = w.surface\n",
    "        # 品詞\n",
    "        ps = w.part_of_speech\n",
    "        if ps.find('名詞') < 0: continue\n",
    "        if not word in word_dic:\n",
    "            word_dic[word] = 0\n",
    "        word_dic[word] += 1"
   ]
  },
  {
   "cell_type": "code",
   "execution_count": 31,
   "metadata": {},
   "outputs": [
    {
     "output_type": "error",
     "ename": "TypeError",
     "evalue": "'int' object is not subscriptable",
     "traceback": [
      "\u001b[0;31m---------------------------------------------------------------------------\u001b[0m",
      "\u001b[0;31mTypeError\u001b[0m                                 Traceback (most recent call last)",
      "\u001b[0;32m<ipython-input-31-b7ab75fea035>\u001b[0m in \u001b[0;36m<module>\u001b[0;34m\u001b[0m\n\u001b[0;32m----> 1\u001b[0;31m \u001b[0mword_dic\u001b[0m\u001b[0;34m[\u001b[0m\u001b[0;34m'私'\u001b[0m\u001b[0;34m]\u001b[0m\u001b[0;34m[\u001b[0m\u001b[0;36m1\u001b[0m\u001b[0;34m]\u001b[0m\u001b[0;34m\u001b[0m\u001b[0;34m\u001b[0m\u001b[0m\n\u001b[0m",
      "\u001b[0;31mTypeError\u001b[0m: 'int' object is not subscriptable"
     ]
    }
   ],
   "source": []
  },
  {
   "cell_type": "code",
   "execution_count": 34,
   "metadata": {
    "tags": []
   },
   "outputs": [
    {
     "output_type": "stream",
     "name": "stdout",
     "text": "第1位：私 - 2700回\n第2位：の - 1483回\n第3位：先生 - 600回\n第4位：事 - 576回\n第5位：よう - 523回\n第6位：それ - 409回\n第7位：もの - 393回\n第8位：人 - 390回\n第9位：奥さん - 388回\n第10位：時 - 379回\n第11位：彼 - 314回\n第12位：父 - 272回\n第13位：自分 - 264回\n第14位：二 - 263回\n第15位：中 - 259回\n第16位：何 - 251回\n第17位：一 - 249回\n第18位：ん - 241回\n第19位：うち - 238回\n第20位：い - 234回\n第21位：十 - 201回\n第22位：方 - 200回\n第23位：あなた - 187回\n第24位：母 - 171回\n第25位：前 - 168回\n第26位：お嬢さん - 166回\n第27位：上 - 156回\n第28位：気 - 150回\n第29位：今 - 150回\n第30位：顔 - 135回\n第31位：め - 133回\n第32位：言葉 - 128回\n第33位：ため - 126回\n第34位：字 - 124回\n第35位：三 - 123回\n第36位：日 - 123回\n第37位：眼 - 123回\n第38位：そこ - 120回\n第39位：心 - 116回\n第40位：＃ - 115回\n第41位：下げ - 113回\n第42位：見出し - 113回\n第43位：［＃「 - 113回\n第44位：５ - 110回\n第45位：妻 - 108回\n第46位：口 - 107回\n第47位：通り - 105回\n第48位：お - 105回\n第49位：家 - 96回\n第50位：間 - 93回\n"
    }
   ],
   "source": [
    "keys = sorted(word_dic.items(),key=lambda x:x[1], reverse=True) # valueでソート: x[1]\n",
    "for i, tup in enumerate(keys[:50]):\n",
    "    print('第{0}位：{1} - {2}回'.format(i+1, tup[0], tup[1]))"
   ]
  },
  {
   "cell_type": "code",
   "execution_count": null,
   "metadata": {},
   "outputs": [],
   "source": []
  }
 ]
}