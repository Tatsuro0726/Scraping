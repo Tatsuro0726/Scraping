{
  "nbformat": 4,
  "nbformat_minor": 0,
  "metadata": {
    "orig_nbformat": 2,
    "kernelspec": {
      "name": "python3",
      "display_name": "Python 3"
    },
    "colab": {
      "name": "Chapter6.ipynb",
      "provenance": []
    }
  },
  "cells": [
    {
      "cell_type": "markdown",
      "metadata": {
        "id": "xgoX0mQ7dgYw",
        "colab_type": "text"
      },
      "source": [
        "## Chapter6\n",
        "### テキスト解析とチャットボット作成"
      ]
    },
    {
      "cell_type": "markdown",
      "metadata": {
        "id": "Ju_fKlmmdgYx",
        "colab_type": "text"
      },
      "source": [
        "### Chapter6-1\n",
        "形態要素解析 Morphological Analysis\n",
        "\n",
        "形態要素解析とは、自然言語の文章を意味を持つ最小の単位である「形態素」に分割し、品詞を判別する作業。\n",
        "形態素解析は、機械翻訳や、かな漢字変換、また、テキストマイニングなど様々な分野で利用されている。\n",
        "\n",
        "日本語の形態要素解析を行うのは工夫が必要。\n",
        "- _文法規則_による方法\n",
        "- _確率的言語モデル_を用いる方法 ※最近人気"
      ]
    },
    {
      "cell_type": "code",
      "metadata": {
        "id": "gDZvIhYvdlCH",
        "colab_type": "code",
        "colab": {
          "base_uri": "https://localhost:8080/",
          "height": 1000
        },
        "outputId": "622a6520-2ac5-4173-bb06-62ea57f77051"
      },
      "source": [
        "!apt-get install -y mecab libmecab-dev mecab-ipadic"
      ],
      "execution_count": 3,
      "outputs": [
        {
          "output_type": "stream",
          "text": [
            "Reading package lists... Done\n",
            "Building dependency tree       \n",
            "Reading state information... Done\n",
            "The following package was automatically installed and is no longer required:\n",
            "  libnvidia-common-440\n",
            "Use 'apt autoremove' to remove it.\n",
            "The following additional packages will be installed:\n",
            "  libmecab2 mecab-utils\n",
            "The following NEW packages will be installed:\n",
            "  libmecab-dev libmecab2 mecab mecab-ipadic mecab-utils\n",
            "0 upgraded, 5 newly installed, 0 to remove and 35 not upgraded.\n",
            "Need to get 12.8 MB of archives.\n",
            "After this operation, 60.4 MB of additional disk space will be used.\n",
            "Get:1 http://archive.ubuntu.com/ubuntu bionic/universe amd64 libmecab2 amd64 0.996-5 [257 kB]\n",
            "Get:2 http://archive.ubuntu.com/ubuntu bionic/universe amd64 libmecab-dev amd64 0.996-5 [308 kB]\n",
            "Get:3 http://archive.ubuntu.com/ubuntu bionic/universe amd64 mecab-utils amd64 0.996-5 [4,856 B]\n",
            "Get:4 http://archive.ubuntu.com/ubuntu bionic/universe amd64 mecab-ipadic all 2.7.0-20070801+main-1 [12.1 MB]\n",
            "Get:5 http://archive.ubuntu.com/ubuntu bionic/universe amd64 mecab amd64 0.996-5 [132 kB]\n",
            "Fetched 12.8 MB in 4s (3,559 kB/s)\n",
            "Selecting previously unselected package libmecab2:amd64.\n",
            "(Reading database ... 144465 files and directories currently installed.)\n",
            "Preparing to unpack .../libmecab2_0.996-5_amd64.deb ...\n",
            "Unpacking libmecab2:amd64 (0.996-5) ...\n",
            "Selecting previously unselected package libmecab-dev.\n",
            "Preparing to unpack .../libmecab-dev_0.996-5_amd64.deb ...\n",
            "Unpacking libmecab-dev (0.996-5) ...\n",
            "Selecting previously unselected package mecab-utils.\n",
            "Preparing to unpack .../mecab-utils_0.996-5_amd64.deb ...\n",
            "Unpacking mecab-utils (0.996-5) ...\n",
            "Selecting previously unselected package mecab-ipadic.\n",
            "Preparing to unpack .../mecab-ipadic_2.7.0-20070801+main-1_all.deb ...\n",
            "Unpacking mecab-ipadic (2.7.0-20070801+main-1) ...\n",
            "Selecting previously unselected package mecab.\n",
            "Preparing to unpack .../mecab_0.996-5_amd64.deb ...\n",
            "Unpacking mecab (0.996-5) ...\n",
            "Setting up libmecab2:amd64 (0.996-5) ...\n",
            "Setting up mecab-utils (0.996-5) ...\n",
            "Setting up mecab-ipadic (2.7.0-20070801+main-1) ...\n",
            "Compiling IPA dictionary for Mecab.  This takes long time...\n",
            "reading /usr/share/mecab/dic/ipadic/unk.def ... 40\n",
            "emitting double-array: 100% |###########################################| \n",
            "/usr/share/mecab/dic/ipadic/model.def is not found. skipped.\n",
            "reading /usr/share/mecab/dic/ipadic/Noun.adverbal.csv ... 795\n",
            "reading /usr/share/mecab/dic/ipadic/Conjunction.csv ... 171\n",
            "reading /usr/share/mecab/dic/ipadic/Verb.csv ... 130750\n",
            "reading /usr/share/mecab/dic/ipadic/Suffix.csv ... 1393\n",
            "reading /usr/share/mecab/dic/ipadic/Postp-col.csv ... 91\n",
            "reading /usr/share/mecab/dic/ipadic/Symbol.csv ... 208\n",
            "reading /usr/share/mecab/dic/ipadic/Others.csv ... 2\n",
            "reading /usr/share/mecab/dic/ipadic/Noun.place.csv ... 72999\n",
            "reading /usr/share/mecab/dic/ipadic/Noun.csv ... 60477\n",
            "reading /usr/share/mecab/dic/ipadic/Noun.others.csv ... 151\n",
            "reading /usr/share/mecab/dic/ipadic/Noun.demonst.csv ... 120\n",
            "reading /usr/share/mecab/dic/ipadic/Adj.csv ... 27210\n",
            "reading /usr/share/mecab/dic/ipadic/Noun.nai.csv ... 42\n",
            "reading /usr/share/mecab/dic/ipadic/Prefix.csv ... 221\n",
            "reading /usr/share/mecab/dic/ipadic/Noun.org.csv ... 16668\n",
            "reading /usr/share/mecab/dic/ipadic/Noun.proper.csv ... 27327\n",
            "reading /usr/share/mecab/dic/ipadic/Noun.name.csv ... 34202\n",
            "reading /usr/share/mecab/dic/ipadic/Adverb.csv ... 3032\n",
            "reading /usr/share/mecab/dic/ipadic/Noun.verbal.csv ... 12146\n",
            "reading /usr/share/mecab/dic/ipadic/Noun.adjv.csv ... 3328\n",
            "reading /usr/share/mecab/dic/ipadic/Filler.csv ... 19\n",
            "reading /usr/share/mecab/dic/ipadic/Adnominal.csv ... 135\n",
            "reading /usr/share/mecab/dic/ipadic/Noun.number.csv ... 42\n",
            "reading /usr/share/mecab/dic/ipadic/Interjection.csv ... 252\n",
            "reading /usr/share/mecab/dic/ipadic/Postp.csv ... 146\n",
            "reading /usr/share/mecab/dic/ipadic/Auxil.csv ... 199\n",
            "emitting double-array: 100% |###########################################| \n",
            "reading /usr/share/mecab/dic/ipadic/matrix.def ... 1316x1316\n",
            "emitting matrix      : 100% |###########################################| \n",
            "\n",
            "done!\n",
            "update-alternatives: using /var/lib/mecab/dic/ipadic to provide /var/lib/mecab/dic/debian (mecab-dictionary) in auto mode\n",
            "Setting up libmecab-dev (0.996-5) ...\n",
            "Setting up mecab (0.996-5) ...\n",
            "Compiling IPA dictionary for Mecab.  This takes long time...\n",
            "reading /usr/share/mecab/dic/ipadic/unk.def ... 40\n",
            "emitting double-array: 100% |###########################################| \n",
            "/usr/share/mecab/dic/ipadic/model.def is not found. skipped.\n",
            "reading /usr/share/mecab/dic/ipadic/Noun.adverbal.csv ... 795\n",
            "reading /usr/share/mecab/dic/ipadic/Conjunction.csv ... 171\n",
            "reading /usr/share/mecab/dic/ipadic/Verb.csv ... 130750\n",
            "reading /usr/share/mecab/dic/ipadic/Suffix.csv ... 1393\n",
            "reading /usr/share/mecab/dic/ipadic/Postp-col.csv ... 91\n",
            "reading /usr/share/mecab/dic/ipadic/Symbol.csv ... 208\n",
            "reading /usr/share/mecab/dic/ipadic/Others.csv ... 2\n",
            "reading /usr/share/mecab/dic/ipadic/Noun.place.csv ... 72999\n",
            "reading /usr/share/mecab/dic/ipadic/Noun.csv ... 60477\n",
            "reading /usr/share/mecab/dic/ipadic/Noun.others.csv ... 151\n",
            "reading /usr/share/mecab/dic/ipadic/Noun.demonst.csv ... 120\n",
            "reading /usr/share/mecab/dic/ipadic/Adj.csv ... 27210\n",
            "reading /usr/share/mecab/dic/ipadic/Noun.nai.csv ... 42\n",
            "reading /usr/share/mecab/dic/ipadic/Prefix.csv ... 221\n",
            "reading /usr/share/mecab/dic/ipadic/Noun.org.csv ... 16668\n",
            "reading /usr/share/mecab/dic/ipadic/Noun.proper.csv ... 27327\n",
            "reading /usr/share/mecab/dic/ipadic/Noun.name.csv ... 34202\n",
            "reading /usr/share/mecab/dic/ipadic/Adverb.csv ... 3032\n",
            "reading /usr/share/mecab/dic/ipadic/Noun.verbal.csv ... 12146\n",
            "reading /usr/share/mecab/dic/ipadic/Noun.adjv.csv ... 3328\n",
            "reading /usr/share/mecab/dic/ipadic/Filler.csv ... 19\n",
            "reading /usr/share/mecab/dic/ipadic/Adnominal.csv ... 135\n",
            "reading /usr/share/mecab/dic/ipadic/Noun.number.csv ... 42\n",
            "reading /usr/share/mecab/dic/ipadic/Interjection.csv ... 252\n",
            "reading /usr/share/mecab/dic/ipadic/Postp.csv ... 146\n",
            "reading /usr/share/mecab/dic/ipadic/Auxil.csv ... 199\n",
            "emitting double-array: 100% |###########################################| \n",
            "reading /usr/share/mecab/dic/ipadic/matrix.def ... 1316x1316\n",
            "emitting matrix      : 100% |###########################################| \n",
            "\n",
            "done!\n",
            "Processing triggers for man-db (2.8.3-2ubuntu0.1) ...\n",
            "Processing triggers for libc-bin (2.27-3ubuntu1) ...\n",
            "/sbin/ldconfig.real: /usr/local/lib/python3.6/dist-packages/ideep4py/lib/libmkldnn.so.0 is not a symbolic link\n",
            "\n"
          ],
          "name": "stdout"
        }
      ]
    },
    {
      "cell_type": "code",
      "metadata": {
        "id": "1HCAEAS2d9y1",
        "colab_type": "code",
        "colab": {
          "base_uri": "https://localhost:8080/",
          "height": 250
        },
        "outputId": "60a1309f-aca9-4e67-b444-522abeb2e900"
      },
      "source": [
        "!apt-get install -y medcab-ipadic-utf8\n",
        "!apt-get install -y libc6-dev build-essential"
      ],
      "execution_count": 4,
      "outputs": [
        {
          "output_type": "stream",
          "text": [
            "Reading package lists... Done\n",
            "Building dependency tree       \n",
            "Reading state information... Done\n",
            "E: Unable to locate package medcab-ipadic-utf8\n",
            "Reading package lists... Done\n",
            "Building dependency tree       \n",
            "Reading state information... Done\n",
            "build-essential is already the newest version (12.4ubuntu1).\n",
            "libc6-dev is already the newest version (2.27-3ubuntu1.2).\n",
            "libc6-dev set to manually installed.\n",
            "The following package was automatically installed and is no longer required:\n",
            "  libnvidia-common-440\n",
            "Use 'apt autoremove' to remove it.\n",
            "0 upgraded, 0 newly installed, 0 to remove and 35 not upgraded.\n"
          ],
          "name": "stdout"
        }
      ]
    },
    {
      "cell_type": "code",
      "metadata": {
        "id": "j2LtdmQIeM2J",
        "colab_type": "code",
        "colab": {
          "base_uri": "https://localhost:8080/",
          "height": 100
        },
        "outputId": "eb819b65-b7ea-415d-a8eb-73a91e6f4c85"
      },
      "source": [
        "!pip install mecab-python3"
      ],
      "execution_count": 5,
      "outputs": [
        {
          "output_type": "stream",
          "text": [
            "Collecting mecab-python3\n",
            "\u001b[?25l  Downloading https://files.pythonhosted.org/packages/8b/06/2aeff86243c88580ccf78b136d403ce5e0a1eed9091103157f01e806499f/mecab_python3-1.0.1-cp36-cp36m-manylinux2010_x86_64.whl (3.5MB)\n",
            "\u001b[K     |████████████████████████████████| 3.5MB 2.8MB/s \n",
            "\u001b[?25hInstalling collected packages: mecab-python3\n",
            "Successfully installed mecab-python3-1.0.1\n"
          ],
          "name": "stdout"
        }
      ]
    },
    {
      "cell_type": "code",
      "metadata": {
        "id": "MJEmv8AYeh_B",
        "colab_type": "code",
        "colab": {
          "base_uri": "https://localhost:8080/",
          "height": 100
        },
        "outputId": "b4aa5aa5-5175-435b-94e0-61c47659d380"
      },
      "source": [
        "!pip install janome"
      ],
      "execution_count": 7,
      "outputs": [
        {
          "output_type": "stream",
          "text": [
            "Collecting janome\n",
            "\u001b[?25l  Downloading https://files.pythonhosted.org/packages/79/f0/bd7f90806132d7d9d642d418bdc3e870cfdff5947254ea3cab27480983a7/Janome-0.3.10-py2.py3-none-any.whl (21.5MB)\n",
            "\u001b[K     |████████████████████████████████| 21.5MB 45.1MB/s \n",
            "\u001b[?25hInstalling collected packages: janome\n",
            "Successfully installed janome-0.3.10\n"
          ],
          "name": "stdout"
        }
      ]
    },
    {
      "cell_type": "code",
      "metadata": {
        "tags": [],
        "id": "cOlhqZJSdgYy",
        "colab_type": "code",
        "colab": {
          "base_uri": "https://localhost:8080/",
          "height": 612
        },
        "outputId": "a0b8d3b7-3b02-4a8d-e81d-bfb6597f5a1b"
      },
      "source": [
        "# MeCab 定番ライブラリー\n",
        "import MeCab\n",
        "mecab = MeCab.Tagger() # MeCabオブジェクト生成\n",
        "malist = mecab.parse('庭には二羽鶏がいる。') # 形態要素解析\n",
        "print(malist)\n"
      ],
      "execution_count": 6,
      "outputs": [
        {
          "output_type": "stream",
          "text": [
            "----------------------------------------------------------\n"
          ],
          "name": "stdout"
        },
        {
          "output_type": "stream",
          "text": [
            "\n",
            "Failed initializing MeCab. Please see the README for possible solutions:\n",
            "\n",
            "    https://github.com/SamuraiT/mecab-python3#common-issues\n",
            "\n",
            "If you are still having trouble, please file an issue here, and include the\n",
            "ERROR DETAILS below:\n",
            "\n",
            "    https://github.com/SamuraiT/mecab-python3/issues\n",
            "\n",
            "issueを英語で書く必要はありません。\n",
            "\n",
            "------------------- ERROR DETAILS ------------------------\n",
            "arguments: \n",
            "error message: [ifs] no such file or directory: /usr/local/etc/mecabrc\n"
          ],
          "name": "stderr"
        },
        {
          "output_type": "error",
          "ename": "RuntimeError",
          "evalue": "ignored",
          "traceback": [
            "\u001b[0;31m---------------------------------------------------------------------------\u001b[0m",
            "\u001b[0;31mRuntimeError\u001b[0m                              Traceback (most recent call last)",
            "\u001b[0;32m<ipython-input-6-716231d2dbbd>\u001b[0m in \u001b[0;36m<module>\u001b[0;34m()\u001b[0m\n\u001b[1;32m      1\u001b[0m \u001b[0;31m# MeCab 定番ライブラリー\u001b[0m\u001b[0;34m\u001b[0m\u001b[0;34m\u001b[0m\u001b[0;34m\u001b[0m\u001b[0m\n\u001b[1;32m      2\u001b[0m \u001b[0;32mimport\u001b[0m \u001b[0mMeCab\u001b[0m\u001b[0;34m\u001b[0m\u001b[0;34m\u001b[0m\u001b[0m\n\u001b[0;32m----> 3\u001b[0;31m \u001b[0mmecab\u001b[0m \u001b[0;34m=\u001b[0m \u001b[0mMeCab\u001b[0m\u001b[0;34m.\u001b[0m\u001b[0mTagger\u001b[0m\u001b[0;34m(\u001b[0m\u001b[0;34m)\u001b[0m \u001b[0;31m# MeCabオブジェクト生成\u001b[0m\u001b[0;34m\u001b[0m\u001b[0;34m\u001b[0m\u001b[0m\n\u001b[0m\u001b[1;32m      4\u001b[0m \u001b[0mmalist\u001b[0m \u001b[0;34m=\u001b[0m \u001b[0mmecab\u001b[0m\u001b[0;34m.\u001b[0m\u001b[0mparse\u001b[0m\u001b[0;34m(\u001b[0m\u001b[0;34m'庭には二羽鶏がいる。'\u001b[0m\u001b[0;34m)\u001b[0m \u001b[0;31m# 形態要素解析\u001b[0m\u001b[0;34m\u001b[0m\u001b[0;34m\u001b[0m\u001b[0m\n\u001b[1;32m      5\u001b[0m \u001b[0mprint\u001b[0m\u001b[0;34m(\u001b[0m\u001b[0mmalist\u001b[0m\u001b[0;34m)\u001b[0m\u001b[0;34m\u001b[0m\u001b[0;34m\u001b[0m\u001b[0m\n",
            "\u001b[0;32m/usr/local/lib/python3.6/dist-packages/MeCab/__init__.py\u001b[0m in \u001b[0;36m__init__\u001b[0;34m(self, rawargs)\u001b[0m\n\u001b[1;32m    122\u001b[0m \u001b[0;34m\u001b[0m\u001b[0m\n\u001b[1;32m    123\u001b[0m         \u001b[0;32mtry\u001b[0m\u001b[0;34m:\u001b[0m\u001b[0;34m\u001b[0m\u001b[0;34m\u001b[0m\u001b[0m\n\u001b[0;32m--> 124\u001b[0;31m             \u001b[0msuper\u001b[0m\u001b[0;34m(\u001b[0m\u001b[0mTagger\u001b[0m\u001b[0;34m,\u001b[0m \u001b[0mself\u001b[0m\u001b[0;34m)\u001b[0m\u001b[0;34m.\u001b[0m\u001b[0m__init__\u001b[0m\u001b[0;34m(\u001b[0m\u001b[0margs\u001b[0m\u001b[0;34m)\u001b[0m\u001b[0;34m\u001b[0m\u001b[0;34m\u001b[0m\u001b[0m\n\u001b[0m\u001b[1;32m    125\u001b[0m         \u001b[0;32mexcept\u001b[0m \u001b[0mRuntimeError\u001b[0m\u001b[0;34m:\u001b[0m\u001b[0;34m\u001b[0m\u001b[0;34m\u001b[0m\u001b[0m\n\u001b[1;32m    126\u001b[0m             \u001b[0merror_info\u001b[0m\u001b[0;34m(\u001b[0m\u001b[0mrawargs\u001b[0m\u001b[0;34m)\u001b[0m\u001b[0;34m\u001b[0m\u001b[0;34m\u001b[0m\u001b[0m\n",
            "\u001b[0;31mRuntimeError\u001b[0m: "
          ]
        }
      ]
    },
    {
      "cell_type": "code",
      "metadata": {
        "tags": [],
        "id": "4VROyMtCdgY1",
        "colab_type": "code",
        "colab": {
          "base_uri": "https://localhost:8080/",
          "height": 167
        },
        "outputId": "61bd9b26-91f2-4976-90d9-5d2b1ab4a247"
      },
      "source": [
        "# ピュアPython解析器「Janome」\n",
        "from janome.tokenizer import Tokenizer\n",
        "t = Tokenizer()\n",
        "malist = t.tokenize('庭には二羽鶏がいる。')\n",
        "for n in malist:\n",
        "    print(n)"
      ],
      "execution_count": 8,
      "outputs": [
        {
          "output_type": "stream",
          "text": [
            "庭\t名詞,一般,*,*,*,*,庭,ニワ,ニワ\n",
            "に\t助詞,格助詞,一般,*,*,*,に,ニ,ニ\n",
            "は\t助詞,係助詞,*,*,*,*,は,ハ,ワ\n",
            "二\t名詞,数,*,*,*,*,二,ニ,ニ\n",
            "羽\t名詞,接尾,助数詞,*,*,*,羽,ワ,ワ\n",
            "鶏\t名詞,一般,*,*,*,*,鶏,ニワトリ,ニワトリ\n",
            "が\t助詞,格助詞,一般,*,*,*,が,ガ,ガ\n",
            "いる\t動詞,自立,*,*,一段,基本形,いる,イル,イル\n",
            "。\t記号,句点,*,*,*,*,。,。,。\n"
          ],
          "name": "stdout"
        }
      ]
    },
    {
      "cell_type": "code",
      "metadata": {
        "tags": [],
        "id": "gtg2INw_dgY3",
        "colab_type": "code",
        "colab": {
          "base_uri": "https://localhost:8080/",
          "height": 33
        },
        "outputId": "09e48d6c-9b27-4dc5-bdad-2f40c3f3c863"
      },
      "source": [
        "from janome.tokenizer import Tokenizer\n",
        "import zipfile\n",
        "import os.path, urllib.request as req\n",
        "\n",
        "# 銀河鉄道の夜のZIPファイルをダウンロード\n",
        "url = 'http://www.aozora.gr.jp/cards/000081/files/456_ruby_145.zip'\n",
        "local = '456_ruby_145.zip'\n",
        "if not os.path.exists(local):\n",
        "    print('ZIPファイルをダウンロード')\n",
        "    req.urlretrieve(url, local)\n",
        "\n",
        "# ZIPファイル内のテキストファイルを読み込む\n",
        "zf = zipfile.ZipFile(local, 'r') # ZIPファイルを読み込む\n",
        "fp = zf.open('gingatetsudono_yoru.txt', 'r') # アーカイブ内のテキストを読む\n",
        "bindata = fp.read()\n",
        "txt = bindata.decode('shift_jis') # テキストがshift_JISなのでデコード\n",
        "\n",
        "# 形態要素解析オブジェクトの生成\n",
        "t = Tokenizer()\n",
        "\n",
        "# テキストを一行ずつ処理\n",
        "word_dic = {}\n",
        "lines = txt.split('/r/n')\n",
        "for line in lines:\n",
        "    malist = t.tokenize(line)\n",
        "    for w in malist:\n",
        "        word = w.surface\n",
        "        ps = w.part_of_speech # 品詞\n",
        "        if ps.find('名詞') < 0: continue # 名詞だけカウント：find(***)　⇒ ***が出現する位置を返す, continueは下の処理をせずforの位置に戻ることを指す\n",
        "        if not word in word_dic:\n",
        "            word_dic[word] = 0\n",
        "        word_dic[word] += 1\n",
        "\n"
      ],
      "execution_count": 9,
      "outputs": [
        {
          "output_type": "stream",
          "text": [
            "ZIPファイルをダウンロード\n"
          ],
          "name": "stdout"
        }
      ]
    },
    {
      "cell_type": "code",
      "metadata": {
        "tags": [],
        "id": "_y2fdSiwdgY5",
        "colab_type": "code",
        "colab": {
          "base_uri": "https://localhost:8080/",
          "height": 850
        },
        "outputId": "c8d5bd96-1a0c-4642-a7eb-edaad8e2c15c"
      },
      "source": [
        "# よく使われる単語を表示\n",
        "keys = sorted(word_dic.items(), key=lambda x:x[1], reverse=True)\n",
        "for i, key in enumerate(keys[:50]):\n",
        "    print('{0}位：{1}回 {2} '.format(i+1,key[1],key[0]))"
      ],
      "execution_count": 11,
      "outputs": [
        {
          "output_type": "stream",
          "text": [
            "1位：209回 よう \n",
            "2位：206回 の \n",
            "3位：190回 ジョバンニ \n",
            "4位：102回 人 \n",
            "5位：101回 カムパネルラ \n",
            "6位：101回 ん \n",
            "7位：66回 方 \n",
            "8位：65回 中 \n",
            "9位：59回 ぼく \n",
            "10位：57回 それ \n",
            "11位：56回 たち \n",
            "12位：54回 みんな \n",
            "13位：53回 二 \n",
            "14位：47回 一 \n",
            "15位：46回 何 \n",
            "16位：45回 ほんとう \n",
            "17位：45回 鳥 \n",
            "18位：43回 どこ \n",
            "19位：39回 こと \n",
            "20位：39回 窓 \n",
            "21位：39回 汽車 \n",
            "22位：38回 前 \n",
            "23位：38回 そう \n",
            "24位：38回 いま \n",
            "25位：37回 眼 \n",
            "26位：35回 川 \n",
            "27位：35回 とき \n",
            "28位：33回 僕 \n",
            "29位：32回 もの \n",
            "30位：30回 たくさん \n",
            "31位：29回 水 \n",
            "32位：29回 お \n",
            "33位：29回 ら \n",
            "34位：28回 青年 \n",
            "35位：27回 銀河 \n",
            "36位：27回 そこ \n",
            "37位：27回 こっち \n",
            "38位：27回 さっき \n",
            "39位：26回 上 \n",
            "40位：26回 ろ \n",
            "41位：26回 風 \n",
            "42位：25回 星 \n",
            "43位：25回 顔 \n",
            "44位：25回 向う \n",
            "45位：25回 女の子 \n",
            "46位：24回 野原 \n",
            "47位：23回 お父さん \n",
            "48位：23回 天の川 \n",
            "49位：22回 声 \n",
            "50位：21回 い \n"
          ],
          "name": "stdout"
        }
      ]
    },
    {
      "cell_type": "code",
      "metadata": {
        "tags": [],
        "id": "30gEb2xddgY7",
        "colab_type": "code",
        "colab": {}
      },
      "source": [
        "# 夏目漱石の「こころ」もカウントする\n",
        "from janome.tokenizer import Tokenizer\n",
        "import os.path, urllib.request as req\n",
        "import zipfile\n",
        "\n",
        "url = 'http://www.aozora.gr.jp/cards/000148/files/773_ruby_5968.zip'\n",
        "local = '773_ruby_5968.zip'\n",
        "\n",
        "# ディレクトリ確認\n",
        "if not os.path.exists(local):\n",
        "    print('Zipファイルダウンロード')\n",
        "    req.urlretrieve(url, local)\n",
        "\n",
        "# ZIPファイル読み込み\n",
        "zp = zipfile.ZipFile(local)\n",
        "fp = zp.open('kokoro.txt', 'r')\n",
        "bindata = fp.read()\n",
        "txt = bindata.decode('shift_jis')\n",
        "\n",
        "# 形態要素解析\n",
        "t = Tokenizer()\n",
        "\n",
        "# カウント用dict作成\n",
        "word_dic = {}\n",
        "lines = txt.split('\\r\\n')\n",
        "for line in lines:\n",
        "    malist = t.tokenize(line)\n",
        "    for w in malist:\n",
        "        # 文字だけ\n",
        "        word = w.surface\n",
        "        # 品詞\n",
        "        ps = w.part_of_speech\n",
        "        if ps.find('名詞') < 0: continue\n",
        "        if not word in word_dic:\n",
        "            word_dic[word] = 0\n",
        "        word_dic[word] += 1"
      ],
      "execution_count": null,
      "outputs": []
    },
    {
      "cell_type": "code",
      "metadata": {
        "id": "p2F7S3S6dgY9",
        "colab_type": "code",
        "colab": {},
        "outputId": "95192fe8-518d-4840-8e7a-9f1fcfe6f26f"
      },
      "source": [
        ""
      ],
      "execution_count": null,
      "outputs": [
        {
          "output_type": "error",
          "ename": "TypeError",
          "evalue": "'int' object is not subscriptable",
          "traceback": [
            "\u001b[0;31m---------------------------------------------------------------------------\u001b[0m",
            "\u001b[0;31mTypeError\u001b[0m                                 Traceback (most recent call last)",
            "\u001b[0;32m<ipython-input-31-b7ab75fea035>\u001b[0m in \u001b[0;36m<module>\u001b[0;34m\u001b[0m\n\u001b[0;32m----> 1\u001b[0;31m \u001b[0mword_dic\u001b[0m\u001b[0;34m[\u001b[0m\u001b[0;34m'私'\u001b[0m\u001b[0;34m]\u001b[0m\u001b[0;34m[\u001b[0m\u001b[0;36m1\u001b[0m\u001b[0;34m]\u001b[0m\u001b[0;34m\u001b[0m\u001b[0;34m\u001b[0m\u001b[0m\n\u001b[0m",
            "\u001b[0;31mTypeError\u001b[0m: 'int' object is not subscriptable"
          ]
        }
      ]
    },
    {
      "cell_type": "code",
      "metadata": {
        "tags": [],
        "id": "SKfjhWI4dgZA",
        "colab_type": "code",
        "colab": {},
        "outputId": "eda322b4-e07e-44a1-b639-e8e1e2255607"
      },
      "source": [
        "keys = sorted(word_dic.items(),key=lambda x:x[1], reverse=True) # valueでソート: x[1]\n",
        "for i, tup in enumerate(keys[:50]):\n",
        "    print('第{0}位：{1} - {2}回'.format(i+1, tup[0], tup[1]))"
      ],
      "execution_count": null,
      "outputs": [
        {
          "output_type": "stream",
          "text": [
            "第1位：私 - 2700回\n",
            "第2位：の - 1483回\n",
            "第3位：先生 - 600回\n",
            "第4位：事 - 576回\n",
            "第5位：よう - 523回\n",
            "第6位：それ - 409回\n",
            "第7位：もの - 393回\n",
            "第8位：人 - 390回\n",
            "第9位：奥さん - 388回\n",
            "第10位：時 - 379回\n",
            "第11位：彼 - 314回\n",
            "第12位：父 - 272回\n",
            "第13位：自分 - 264回\n",
            "第14位：二 - 263回\n",
            "第15位：中 - 259回\n",
            "第16位：何 - 251回\n",
            "第17位：一 - 249回\n",
            "第18位：ん - 241回\n",
            "第19位：うち - 238回\n",
            "第20位：い - 234回\n",
            "第21位：十 - 201回\n",
            "第22位：方 - 200回\n",
            "第23位：あなた - 187回\n",
            "第24位：母 - 171回\n",
            "第25位：前 - 168回\n",
            "第26位：お嬢さん - 166回\n",
            "第27位：上 - 156回\n",
            "第28位：気 - 150回\n",
            "第29位：今 - 150回\n",
            "第30位：顔 - 135回\n",
            "第31位：め - 133回\n",
            "第32位：言葉 - 128回\n",
            "第33位：ため - 126回\n",
            "第34位：字 - 124回\n",
            "第35位：三 - 123回\n",
            "第36位：日 - 123回\n",
            "第37位：眼 - 123回\n",
            "第38位：そこ - 120回\n",
            "第39位：心 - 116回\n",
            "第40位：＃ - 115回\n",
            "第41位：下げ - 113回\n",
            "第42位：見出し - 113回\n",
            "第43位：［＃「 - 113回\n",
            "第44位：５ - 110回\n",
            "第45位：妻 - 108回\n",
            "第46位：口 - 107回\n",
            "第47位：通り - 105回\n",
            "第48位：お - 105回\n",
            "第49位：家 - 96回\n",
            "第50位：間 - 93回\n"
          ],
          "name": "stdout"
        }
      ]
    },
    {
      "cell_type": "markdown",
      "metadata": {
        "id": "IbX25yCxdgZF",
        "colab_type": "text"
      },
      "source": [
        "### Chapter6-2\n",
        "Word2Vecで文章をベクトル変換しよう\n",
        "\n",
        "Word2Vecとは?\n",
        "- Word2Vecは、文章中の語句をベクトルに変換するツール。\n",
        "- 単語同士のつながりに基づいて単語同士の関係性をベクトル化する。\n",
        "- 単語のベクトル化によって、語句と語句の類似度を調べることが可能に。\n",
        "- 意味の線形計算が可能。\n",
        "- 代表的な実装手法\n",
        "    -- Skip-gram\n",
        "    -- CBoW"
      ]
    },
    {
      "cell_type": "code",
      "metadata": {
        "id": "tOyOC-wGfHZi",
        "colab_type": "code",
        "colab": {
          "base_uri": "https://localhost:8080/",
          "height": 300
        },
        "outputId": "8d9ae40c-6ef0-4224-d59d-85f512edbe93"
      },
      "source": [
        "!pip install gensim"
      ],
      "execution_count": 12,
      "outputs": [
        {
          "output_type": "stream",
          "text": [
            "Requirement already satisfied: gensim in /usr/local/lib/python3.6/dist-packages (3.6.0)\n",
            "Requirement already satisfied: six>=1.5.0 in /usr/local/lib/python3.6/dist-packages (from gensim) (1.15.0)\n",
            "Requirement already satisfied: scipy>=0.18.1 in /usr/local/lib/python3.6/dist-packages (from gensim) (1.4.1)\n",
            "Requirement already satisfied: numpy>=1.11.3 in /usr/local/lib/python3.6/dist-packages (from gensim) (1.18.5)\n",
            "Requirement already satisfied: smart-open>=1.2.1 in /usr/local/lib/python3.6/dist-packages (from gensim) (2.1.0)\n",
            "Requirement already satisfied: boto3 in /usr/local/lib/python3.6/dist-packages (from smart-open>=1.2.1->gensim) (1.14.24)\n",
            "Requirement already satisfied: requests in /usr/local/lib/python3.6/dist-packages (from smart-open>=1.2.1->gensim) (2.23.0)\n",
            "Requirement already satisfied: boto in /usr/local/lib/python3.6/dist-packages (from smart-open>=1.2.1->gensim) (2.49.0)\n",
            "Requirement already satisfied: jmespath<1.0.0,>=0.7.1 in /usr/local/lib/python3.6/dist-packages (from boto3->smart-open>=1.2.1->gensim) (0.10.0)\n",
            "Requirement already satisfied: s3transfer<0.4.0,>=0.3.0 in /usr/local/lib/python3.6/dist-packages (from boto3->smart-open>=1.2.1->gensim) (0.3.3)\n",
            "Requirement already satisfied: botocore<1.18.0,>=1.17.24 in /usr/local/lib/python3.6/dist-packages (from boto3->smart-open>=1.2.1->gensim) (1.17.24)\n",
            "Requirement already satisfied: urllib3!=1.25.0,!=1.25.1,<1.26,>=1.21.1 in /usr/local/lib/python3.6/dist-packages (from requests->smart-open>=1.2.1->gensim) (1.24.3)\n",
            "Requirement already satisfied: chardet<4,>=3.0.2 in /usr/local/lib/python3.6/dist-packages (from requests->smart-open>=1.2.1->gensim) (3.0.4)\n",
            "Requirement already satisfied: certifi>=2017.4.17 in /usr/local/lib/python3.6/dist-packages (from requests->smart-open>=1.2.1->gensim) (2020.6.20)\n",
            "Requirement already satisfied: idna<3,>=2.5 in /usr/local/lib/python3.6/dist-packages (from requests->smart-open>=1.2.1->gensim) (2.10)\n",
            "Requirement already satisfied: docutils<0.16,>=0.10 in /usr/local/lib/python3.6/dist-packages (from botocore<1.18.0,>=1.17.24->boto3->smart-open>=1.2.1->gensim) (0.15.2)\n",
            "Requirement already satisfied: python-dateutil<3.0.0,>=2.1 in /usr/local/lib/python3.6/dist-packages (from botocore<1.18.0,>=1.17.24->boto3->smart-open>=1.2.1->gensim) (2.8.1)\n"
          ],
          "name": "stdout"
        }
      ]
    },
    {
      "cell_type": "code",
      "metadata": {
        "id": "_IO474VFdgZF",
        "colab_type": "code",
        "colab": {}
      },
      "source": [
        "# kokoroをファイル保存\n",
        "import zipfile\n",
        "\n",
        "# 夏目漱石の「こころ」を解凍\n",
        "zf = zipfile.ZipFile('./773_ruby_5968.zip')\n",
        "fp = zf.open('kokoro.txt', 'r')\n",
        "binfile = fp.read()\n",
        "txt = binfile.decode('shift_jis')\n",
        "\n",
        "# 「kokoro.txt」で保存\n",
        "with open('kokoro.txt', 'w') as f:\n",
        "    f.write(txt)\n",
        "\n",
        "fp.close()\n",
        "f.close()"
      ],
      "execution_count": null,
      "outputs": []
    },
    {
      "cell_type": "code",
      "metadata": {
        "id": "ELAF9R_ZdgZH",
        "colab_type": "code",
        "colab": {}
      },
      "source": [
        "# GensimのWord2Vecで「こころ」を読む\n",
        "from janome.tokenizer import Tokenizer\n",
        "from gensim.models import word2vec\n",
        "import re\n",
        "\n",
        "# テキストファイルの読み込み\n",
        "bindata = open('kokoro.txt', 'r')\n",
        "text = bindata.read()\n",
        "\n",
        "# テキストの先頭にあるヘッダーとフッターを削除\n",
        "text = re.split(r'\\-{5,}', text)[2]\n",
        "text = re.split(r'底本:', text)[0]\n",
        "text = text.strip()\n",
        "\n",
        "# 形態要素解析\n",
        "t = Tokenizer()\n",
        "results = []\n",
        "\n",
        "# テキストを1行ずつ処理する\n",
        "lines = text.split('\\r\\n')\n",
        "for line in lines:\n",
        "    s = line\n",
        "    s = s.replace(' | ', '')\n",
        "    s = re.sub(r' <<.+?>> ', '', s) # ルビを削除\n",
        "    s = re.sub(r' [# .+?]', '', s) # 入力注を削除\n",
        "    tokens = t.tokenize(s) # 形態素解析\n",
        "    # 必要な語句だけを対象とする\n",
        "    r = []\n",
        "    for tok in tokens:\n",
        "        if tok.base_form == '*': # 単語の基本形を採用\n",
        "            w = tok.surface\n",
        "        else:\n",
        "            w = tok.base_form\n",
        "            ps = tok.part_of_speech # 品詞情報\n",
        "            hinsi = ps.split(',')[0]\n",
        "            if hinsi in ['名詞', '形容詞', '動詞', '記号']:\n",
        "                r.append(w)\n",
        "        rl = (' '.join(r)).strip()\n",
        "        results.append(rl)\n",
        "        # print(rl) # 画面に分かち書きした行を表示\n",
        "# 書き込み先テキストを開く\n",
        "wakati_file = 'kokoro.watati'\n",
        "with open(wakati_file, 'w', encoding='utf-8') as fp:\n",
        "    fp.write('\\n'.join(results))\n",
        "\n",
        "# Word2Vecでモデルを作成\n",
        "data = word2vec.LineSentence(wakati_file)\n",
        "model = word2vec.Word2Vec(data, size=200, window=10, hs=1, min_count=2, sg=1)\n",
        "model.save('kokoro.model')\n",
        "print('ok')"
      ],
      "execution_count": null,
      "outputs": []
    },
    {
      "cell_type": "code",
      "metadata": {
        "id": "sk1oAUefdgZJ",
        "colab_type": "code",
        "colab": {}
      },
      "source": [
        "from gensim.models import word2vec\n",
        "\n",
        "model = word2vec.Word2Vec.load('kokoro.model')"
      ],
      "execution_count": null,
      "outputs": []
    },
    {
      "cell_type": "code",
      "metadata": {
        "id": "NMS5is7ydgZK",
        "colab_type": "code",
        "colab": {}
      },
      "source": [
        "# ベイジアンフィルターを使ってみよう\n",
        "import math, sys\n",
        "from janome.tokenizer import Tokenizer\n",
        "\n",
        "class BayesianFileter:\n",
        "    \"\"\"ベイジアンフィルター\"\"\"\n",
        "    def __init__(self):\n",
        "        self.words = set() # 単語の集合\n",
        "        self.word_dict = {} # カテゴリーごとの単語出現回数を記録\n",
        "        self.category_dict = {} # カテゴリーごとの単語出現回数を記録\n",
        "    \n",
        "    # 形態素解析を行う\n",
        "    def split(self, text):\n",
        "        result = []\n",
        "        t = Tokenizer()\n",
        "        malist = t.tokenize(text)\n",
        "        for w in malist:\n",
        "            sf = w.surface # 区切られた単語そのまま\n",
        "            bf = w.base_form # 単語の基本形:例　走れ　⇒　走る　になる\n",
        "            if bf == '' or bf == '*':\n",
        "                bf = sf\n",
        "            result.append(bf)\n",
        "        return result\n",
        "    \n",
        "    # 単語とカテゴリーを数える処理\n",
        "    def inc_word(self, word, category):\n",
        "        # 単語をカテゴリーに追加\n",
        "        if not category in self.word_dict:\n",
        "            self.word_dict[category] = {}\n",
        "        if not word in self.word_dict[category]:\n",
        "            self.word_dict[category][word] = 0\n",
        "        self.word_dict[category][word] += 1\n",
        "        self.words.add(word) # 集合に追加\n",
        "    \n",
        "    def inc_category(self, category):\n",
        "        if not category in self.category_dict:\n",
        "            self.category_dict[category] = 0\n",
        "        self.category_dict[category] += 1\n",
        "    \n",
        "    def fit(self, text, category):\n",
        "        \"\"\"テキストの学習\"\"\"\n",
        "        word_list = self.split(text)\n",
        "        for word in word_list:\n",
        "            self.inc_word(word, category)\n",
        "        self.inc_category(category)\n",
        "    \n",
        "    # カテゴリーにおける単語リストのスコアを計算する\n",
        "    def score(self, words, category):\n",
        "        score = math.log(self.category_prob(category)) # 確率を掛け合わせで値が極小になりアンダーフローを起こす可能性があるため対数計算\n",
        "        for word in words:\n",
        "            score += math.log(self.word_prob(word, category))\n",
        "        return score\n",
        "    \n",
        "    # テキストのカテゴリー分けを行う\n",
        "    def predict(self, text):\n",
        "        best_category = None\n",
        "        max_score = -sys.maxsize\n",
        "        words = self.split(text)\n",
        "        score_list = []\n",
        "        for category in self.category_dict.keys():\n",
        "            score = self.score(words, category)\n",
        "            score_list.append((category, score))\n",
        "            if score > max_score:\n",
        "                max_score = score\n",
        "                best_category = category\n",
        "        return best_category, score_list\n",
        "    \n",
        "    # カテゴリー内の単語出現数を得る\n",
        "    def get_word_count(self, word, category):\n",
        "        if word in self.word_dict[category]:\n",
        "            return self.word_dict[category][word]\n",
        "        else:\n",
        "            return 0\n",
        "    \n",
        "    # カテゴリー / 総カテゴリーを計算\n",
        "    def category_prob(self, category):\n",
        "        sum_categories = sum(self.category_dict.values())\n",
        "        category_v = self.category_dict[category]\n",
        "        return category_v / sum_categories\n",
        "    \n",
        "    # カテゴリー内の単語の出現率を計算\n",
        "    def word_prob(self, word, category):\n",
        "        n = self.get_word_count(word, category) + 1\n",
        "        d = sum(self.word_dict[category].values()) + len(self.words)\n",
        "        return n / d"
      ],
      "execution_count": null,
      "outputs": []
    },
    {
      "cell_type": "code",
      "metadata": {
        "tags": [],
        "id": "F-g9jAnTdgZN",
        "colab_type": "code",
        "colab": {},
        "outputId": "7c92df59-c75a-42e4-a25e-48dd6e0d72fc"
      },
      "source": [
        "bf = BayesianFileter()\n",
        "\n",
        "bf.fit(\"激安セール - 今日だけ三割引き\", \"広告\")\n",
        "bf.fit(\"クーポンプレゼント＆送料無料\", \"広告\")\n",
        "bf.fit(\"店内改装セール実施中\", \"広告\")\n",
        "bf.fit(\"美味しなって再登場\", \"広告\")\n",
        "bf.fit(\"本日の予定の確認です。\", \"重要\")\n",
        "bf.fit(\"プロジェクトの進捗確認をお願いします。\", \"重要\")\n",
        "bf.fit(\"打合せよろしくお願いします。\", \"重要\")\n",
        "bf.fit(\"会議の議事録です。\", \"重要\")\n",
        "\n",
        "pre, scoreList = bf.predict(\"激安、在庫一掃セール、送料無料\")\n",
        "\n",
        "print(\"結果＝\", pre)\n",
        "print(scoreList)"
      ],
      "execution_count": null,
      "outputs": [
        {
          "output_type": "stream",
          "text": [
            "結果＝ 広告\n",
            "[('広告', -34.664179744170745), ('重要', -38.80010572193528)]\n"
          ],
          "name": "stdout"
        }
      ]
    },
    {
      "cell_type": "code",
      "metadata": {
        "id": "lCAWXDyEdgZP",
        "colab_type": "code",
        "colab": {}
      },
      "source": [
        ""
      ],
      "execution_count": null,
      "outputs": []
    }
  ]
}