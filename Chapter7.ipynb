{
  "nbformat": 4,
  "nbformat_minor": 0,
  "metadata": {
    "colab": {
      "name": "Chapter7.ipynb",
      "provenance": [],
      "collapsed_sections": [],
      "mount_file_id": "1M1HHdHYR8wv62BawYqxOWnfuDwdRThi2",
      "authorship_tag": "ABX9TyNGFUDPDEdSMY5DzaXSGNoj",
      "include_colab_link": true
    },
    "kernelspec": {
      "name": "python3",
      "display_name": "Python 3"
    }
  },
  "cells": [
    {
      "cell_type": "markdown",
      "metadata": {
        "id": "view-in-github",
        "colab_type": "text"
      },
      "source": [
        "<a href=\"https://colab.research.google.com/github/Tatsuro0726/Scraping/blob/master/Chapter7.ipynb\" target=\"_parent\"><img src=\"https://colab.research.google.com/assets/colab-badge.svg\" alt=\"Open In Colab\"/></a>"
      ]
    },
    {
      "cell_type": "markdown",
      "metadata": {
        "id": "SrrTb02zwCzU",
        "colab_type": "text"
      },
      "source": [
        "### Chapter7-1: 類似画像の検出を使用\n",
        "#### 簡単な形状認識 - Average Hash\n",
        "- 画像を比較可能なハッシュ値で表す。ハッシュ関数:MD5, SHA256などを使う。⇒ データの値を要約したハッシュ値を得られる。\n",
        "- 画像データは一般的に同一ではない(サイズとか色調, jpeg/pngなど)のため、ハッシュ関数を使えない。\n",
        "- 類似度計算に使用するAverage Hashが役立つ\n",
        "  1. 画像のサイズを8×8\n",
        "  1. 色をグレースケールに変換\n",
        "  1. 画像の各ピクセルの平均値を計算\n",
        "  1. 各ピクセルの濃淡が平均より大きければ1, 平均以下なら0とする\n",
        "- 上記の手順で、8×8=64bitのハッシュ値が得られる。⇒ 64ビットを比較するだけで済む。"
      ]
    },
    {
      "cell_type": "code",
      "metadata": {
        "id": "FHlqoa1GxdUb",
        "colab_type": "code",
        "colab": {
          "base_uri": "https://localhost:8080/",
          "height": 33
        },
        "outputId": "0a79a1b9-0bc5-43c8-e2af-a9d178f6f541"
      },
      "source": [
        "# Pythonの画像ライブラリーPillowをインストール\n",
        "!pip install Pillow"
      ],
      "execution_count": null,
      "outputs": [
        {
          "output_type": "stream",
          "text": [
            "Requirement already satisfied: Pillow in /usr/local/lib/python3.6/dist-packages (7.0.0)\n"
          ],
          "name": "stdout"
        }
      ]
    },
    {
      "cell_type": "code",
      "metadata": {
        "id": "5HbF0gC3xk9X",
        "colab_type": "code",
        "colab": {
          "base_uri": "https://localhost:8080/",
          "height": 300
        },
        "outputId": "4c0bdbca-ddc4-4e92-f0d3-324e9c782313"
      },
      "source": [
        "# avghash\n",
        "from PIL import Image\n",
        "import numpy as np\n",
        "\n",
        "# 画像データをAverage Hashに変換\n",
        "def average_hash(fname, size = 16):\n",
        "  img = Image.open(fname)\n",
        "  img = img.convert('L') # グレースケールに変換\n",
        "  img = img.resize((size, size), Image.ANTIALIAS) # リサイズ　アンチエイリアス：境界線を滑らかに見せる\n",
        "  pixel_data = img.getdata() # ピクセルデータを得る\n",
        "  pixels = np.array(pixel_data) # numpy配列に変換\n",
        "  pixels = pixels.reshape((size, size)) # 2次元配列に変換\n",
        "  avg = pixels.mean() # 算術平均を計算\n",
        "  diff = 1 * (pixels > avg) # 平均より大きければ1, 平均以下で0に変換\n",
        "  return diff\n",
        "\n",
        "# 2進数とみなしてハッシュ値に変換\n",
        "def np2hash(n):\n",
        "  bhash = []\n",
        "  for nl in ahash.tolist():\n",
        "    sl = [str(i) for i in nl]\n",
        "    s2 = ''.join(sl)\n",
        "    i = int(s2,2) # 2進数を整数に\n",
        "    bhash.append('%04x' % i)\n",
        "  return ''.join(bhash)\n",
        "\n",
        "# Average Hashを表示\n",
        "ahash = average_hash('./skytree.jpg')\n",
        "print(ahash)\n",
        "print(np2hash(ahash))"
      ],
      "execution_count": null,
      "outputs": [
        {
          "output_type": "stream",
          "text": [
            "[[0 0 0 1 1 1 1 1 1 0 0 0 0 0 0 0]\n",
            " [0 0 1 1 1 1 0 1 1 1 0 1 0 0 0 0]\n",
            " [1 1 1 1 1 0 0 1 1 1 1 1 0 1 1 1]\n",
            " [1 1 1 1 1 0 0 0 1 1 1 1 0 0 1 1]\n",
            " [1 1 1 1 1 0 0 0 1 1 1 1 0 0 1 1]\n",
            " [1 1 1 1 1 0 0 0 1 1 1 1 0 0 1 1]\n",
            " [1 1 1 1 1 0 0 0 1 1 1 1 1 0 1 1]\n",
            " [1 1 1 1 0 0 0 0 1 1 1 1 1 1 1 1]\n",
            " [1 1 1 1 0 0 0 0 1 1 1 1 0 1 1 1]\n",
            " [1 1 1 1 0 0 0 0 1 1 1 1 0 1 1 1]\n",
            " [1 1 1 0 0 0 0 0 1 1 1 1 1 0 1 1]\n",
            " [1 1 1 0 0 0 0 0 0 1 1 1 1 0 1 1]\n",
            " [1 1 1 0 0 0 0 0 0 1 1 1 1 1 1 1]\n",
            " [1 1 0 0 0 0 0 0 0 1 1 1 1 1 1 1]\n",
            " [1 1 0 0 0 0 0 0 0 1 1 1 0 0 1 1]\n",
            " [1 0 0 0 0 0 0 0 0 1 1 1 1 0 1 1]]\n",
            "1f803dd0f9f7f8f3f8f3f8f3f8fbf0fff0f7f0f7e0fbe07be07fc07fc073807b\n"
          ],
          "name": "stdout"
        }
      ]
    },
    {
      "cell_type": "code",
      "metadata": {
        "id": "gx7UVe4Hphfm",
        "colab_type": "code",
        "colab": {
          "base_uri": "https://localhost:8080/",
          "height": 67
        },
        "outputId": "4595d4c4-694c-4617-aa80-c4b013ef8964"
      },
      "source": [
        "from PIL import Image\n",
        "import numpy as np\n",
        "import os, re\n",
        "\n",
        "# ファイルパスの指定\n",
        "search_dir = './drive/My Drive/Colab Folder/images/flowers'\n",
        "cache_dir = './drive/My Drive/Colab Folder/images/cache_avhash'\n",
        "\n",
        "# Cacheフォルダ作成\n",
        "if not os.path.exists(cache_dir):\n",
        "  os.mkdir(cache_dir)\n",
        "\n",
        "# 画像データをAverage hashに変換\n",
        "def average_hash(fname, size=16):\n",
        "  fname2 = fname[len(search_dir):]\n",
        "  # 画像をキャッシュしておく\n",
        "  cache_file = cache_dir + '/' + fname2.replace('/', '_') + 'csv'\n",
        "  if not os.path.exists(cache_file): # ハッシュを作成\n",
        "    img = Image.open(fname)\n",
        "    img = img.convert('L').resize((size, size), Image.ANTIALIAS)\n",
        "    pixels = np.array(img.getdata()).reshape((size, size))\n",
        "    avg = pixels.mean()\n",
        "    px = 1 * (pixels > avg)\n",
        "    np.savetxt(cache_file, px, fmt='%.0f', delimiter=',')\n",
        "  else: # すでにキャッシュがあればファイルから読み込み\n",
        "    px = np.loadtxt(cache_file, delimiter=',')\n",
        "  return px\n",
        "\n",
        "# 簡単にハミング距離を求める\n",
        "def hamming_dist(a, b):\n",
        "  aa = a.reshape(1,-1) # 1次元配列に変換\n",
        "  ab = b.reshape(1,-1)\n",
        "  dist = (aa != ab).sum()\n",
        "  return dist\n",
        "\n",
        "# すべてのディレクトリを列挙\n",
        "def enum_all_files(path):\n",
        "  for root, dirs, files in os.walk(path):\n",
        "    for f in files:\n",
        "      fname = os.path.join(root, f)\n",
        "      if re.search(r'\\.(jpg|jpeg|png)$',fname):\n",
        "        yield fname\n",
        "\n",
        "# 画像を検索\n",
        "def find_image(fname, rate):\n",
        "  src = average_hash(fname)\n",
        "  for fname in enum_all_files(search_dir):\n",
        "    dst = average_hash(fname)\n",
        "    diff_r = hamming_dist(src, dst) / 256\n",
        "    # print('[check]', fname)\n",
        "    if diff_r < rate:\n",
        "      yield (diff_r, fname)\n",
        "\n",
        "# 検索\n",
        "srcfile = search_dir + '/rose/mountain_rose_s_000071.png'\n",
        "html = ''\n",
        "sim = list(find_image(srcfile, 0.25))\n",
        "sim = sorted(sim, key=lambda x: x[0])\n",
        "for r, f in sim:\n",
        "  print(r, '>', f)\n",
        "  s = '<div style=\"float:left;\"><h3>[差異:' + str(r) + '-' + \\\n",
        "    os.path.basename(f) + ']</h3>'+ \\\n",
        "    '<p><a href=\"' + f + '\"><img src=\"' + f + '\" width=400>'+ \\\n",
        "    '</a></p></div>'\n",
        "  html += s\n",
        "\n",
        "# html出力\n",
        "html = \"\"\"<html><body><h3>元画像</h3><p>\n",
        "<img src='{0} width=400></p>{1}\n",
        "</body></html>\"\"\".format(srcfile, html)\n",
        "with open(\"./avhash-search-output.html\", \"w\", encoding=\"utf-8\") as f:\n",
        "  f.write(html)\n",
        "print('ok')"
      ],
      "execution_count": 4,
      "outputs": [
        {
          "output_type": "stream",
          "text": [
            "0.0 > ./drive/My Drive/Colab Folder/images/flowers/rose/mountain_rose_s_000071.png\n",
            "0.2421875 > ./drive/My Drive/Colab Folder/images/flowers/tulip/tulip_s_000227.png\n",
            "ok\n"
          ],
          "name": "stdout"
        }
      ]
    },
    {
      "cell_type": "markdown",
      "metadata": {
        "id": "EnnJDPZ3sYIg",
        "colab_type": "text"
      },
      "source": [
        "### Chapter7-2: CNNで画像分類に挑戦しよう\n",
        "CNNでカラー画像の分類に挑戦する"
      ]
    },
    {
      "cell_type": "code",
      "metadata": {
        "id": "50l_cu1xEKYe",
        "colab_type": "code",
        "colab": {
          "base_uri": "https://localhost:8080/",
          "height": 312
        },
        "outputId": "e5f80819-183e-4396-f5da-8139f3fe17c2"
      },
      "source": [
        "# 画像データをPythonのデータ型に変換する\n",
        "from sklearn.model_selection import cross_validate\n",
        "from PIL import Image\n",
        "import os, glob\n",
        "import numpy as np\n",
        "\n",
        "# 分類対象のカテゴリーを選ぶ\n",
        "image_dir = './drive/My Drive/Colab Folder/images/household_furniture' "
      ],
      "execution_count": 5,
      "outputs": [
        {
          "output_type": "error",
          "ename": "ImportError",
          "evalue": "ignored",
          "traceback": [
            "\u001b[0;31m---------------------------------------------------------------------------\u001b[0m",
            "\u001b[0;31mImportError\u001b[0m                               Traceback (most recent call last)",
            "\u001b[0;32m<ipython-input-5-2bbc839776c8>\u001b[0m in \u001b[0;36m<module>\u001b[0;34m()\u001b[0m\n\u001b[1;32m      1\u001b[0m \u001b[0;31m# 画像データをPythonのデータ型に変換する\u001b[0m\u001b[0;34m\u001b[0m\u001b[0;34m\u001b[0m\u001b[0;34m\u001b[0m\u001b[0m\n\u001b[0;32m----> 2\u001b[0;31m \u001b[0;32mfrom\u001b[0m \u001b[0msklearn\u001b[0m \u001b[0;32mimport\u001b[0m \u001b[0mcross_validation\u001b[0m\u001b[0;34m\u001b[0m\u001b[0;34m\u001b[0m\u001b[0m\n\u001b[0m",
            "\u001b[0;31mImportError\u001b[0m: cannot import name 'cross_validation'",
            "",
            "\u001b[0;31m---------------------------------------------------------------------------\u001b[0;32m\nNOTE: If your import is failing due to a missing package, you can\nmanually install dependencies using either !pip or !apt.\n\nTo view examples of installing some common dependencies, click the\n\"Open Examples\" button below.\n\u001b[0;31m---------------------------------------------------------------------------\u001b[0m\n"
          ]
        }
      ]
    },
    {
      "cell_type": "code",
      "metadata": {
        "id": "jCDmHZKaE1jZ",
        "colab_type": "code",
        "colab": {}
      },
      "source": [
        ""
      ],
      "execution_count": null,
      "outputs": []
    }
  ]
}