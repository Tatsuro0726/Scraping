{
  "nbformat": 4,
  "nbformat_minor": 0,
  "metadata": {
    "colab": {
      "name": "Chapter7.ipynb",
      "provenance": [],
      "authorship_tag": "ABX9TyMS88N3jb/jWAZ42bbmrmuS",
      "include_colab_link": true
    },
    "kernelspec": {
      "name": "python3",
      "display_name": "Python 3"
    }
  },
  "cells": [
    {
      "cell_type": "markdown",
      "metadata": {
        "id": "view-in-github",
        "colab_type": "text"
      },
      "source": [
        "<a href=\"https://colab.research.google.com/github/Tatsuro0726/Scraping/blob/master/Chapter7.ipynb\" target=\"_parent\"><img src=\"https://colab.research.google.com/assets/colab-badge.svg\" alt=\"Open In Colab\"/></a>"
      ]
    },
    {
      "cell_type": "markdown",
      "metadata": {
        "id": "SrrTb02zwCzU",
        "colab_type": "text"
      },
      "source": [
        "### Chapter7-1: 類似画像の検出を使用\n",
        "#### 簡単な形状認識 - Average Hash\n",
        "- 画像を比較可能なハッシュ値で表す。ハッシュ関数:MD5, SHA256などを使う。⇒ データの値を要約したハッシュ値を得られる。\n",
        "- 画像データは一般的に同一ではない(サイズとか色調, jpeg/pngなど)のため、ハッシュ関数を使えない。\n",
        "- 類似度計算に使用するAverage Hashが役立つ\n",
        "  1. 画像のサイズを8×8\n",
        "  1. 色をグレースケールに変換\n",
        "  1. 画像の各ピクセルの平均値を計算\n",
        "  1. 各ピクセルの濃淡が平均より大きければ1, 平均以下なら0とする\n",
        "- 上記の手順で、8×8=64bitのハッシュ値が得られる。⇒ 64ビットを比較するだけで済む。"
      ]
    },
    {
      "cell_type": "code",
      "metadata": {
        "id": "FHlqoa1GxdUb",
        "colab_type": "code",
        "colab": {
          "base_uri": "https://localhost:8080/",
          "height": 33
        },
        "outputId": "6c1a4861-4c9f-4d7d-e9f1-99356df31971"
      },
      "source": [
        "# Pythonの画像ライブラリーPillowをインストール\n",
        "!pip install Pillow"
      ],
      "execution_count": 1,
      "outputs": [
        {
          "output_type": "stream",
          "text": [
            "Requirement already satisfied: Pillow in /usr/local/lib/python3.6/dist-packages (7.0.0)\n"
          ],
          "name": "stdout"
        }
      ]
    },
    {
      "cell_type": "code",
      "metadata": {
        "id": "5HbF0gC3xk9X",
        "colab_type": "code",
        "colab": {}
      },
      "source": [
        ""
      ],
      "execution_count": null,
      "outputs": []
    }
  ]
}